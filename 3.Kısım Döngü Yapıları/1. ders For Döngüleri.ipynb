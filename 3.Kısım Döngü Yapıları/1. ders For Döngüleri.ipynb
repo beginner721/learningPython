{
 "cells": [
  {
   "cell_type": "markdown",
   "metadata": {},
   "source": [
    "İN OPERATÖRÜ\n",
    "pythonda in operatörü belirtilen elemanın başka bir liste demet stringte bulunup bulunmadığına bakar"
   ]
  },
  {
   "cell_type": "code",
   "execution_count": 3,
   "metadata": {},
   "outputs": [
    {
     "data": {
      "text/plain": [
       "True"
      ]
     },
     "execution_count": 3,
     "metadata": {},
     "output_type": "execute_result"
    }
   ],
   "source": [
    "\"a\" in \"ahmet\""
   ]
  },
  {
   "cell_type": "code",
   "execution_count": 4,
   "metadata": {},
   "outputs": [
    {
     "data": {
      "text/plain": [
       "True"
      ]
     },
     "execution_count": 4,
     "metadata": {},
     "output_type": "execute_result"
    }
   ],
   "source": [
    "\"selam\" in [\"patates\", \"selam\",4,5,6]"
   ]
  },
  {
   "cell_type": "code",
   "execution_count": 5,
   "metadata": {},
   "outputs": [
    {
     "data": {
      "text/plain": [
       "True"
      ]
     },
     "execution_count": 5,
     "metadata": {},
     "output_type": "execute_result"
    }
   ],
   "source": [
    "a=[1,2,3,4,5]\n",
    "3 in a"
   ]
  },
  {
   "cell_type": "code",
   "execution_count": 6,
   "metadata": {},
   "outputs": [
    {
     "data": {
      "text/plain": [
       "False"
      ]
     },
     "execution_count": 6,
     "metadata": {},
     "output_type": "execute_result"
    }
   ],
   "source": [
    "6 in a"
   ]
  },
  {
   "cell_type": "code",
   "execution_count": 7,
   "metadata": {},
   "outputs": [
    {
     "data": {
      "text/plain": [
       "True"
      ]
     },
     "execution_count": 7,
     "metadata": {},
     "output_type": "execute_result"
    }
   ],
   "source": [
    "not 6 in a"
   ]
  },
  {
   "cell_type": "markdown",
   "metadata": {},
   "source": [
    "# For Döngüsü\n",
    "\n",
    "For döngüsü listelerin demetlerin stringlerin ve hatta sözlüklerin üzerinde dolaşmamızı sağlayan bir döngü türüdür\n",
    "Yapısı şu şekildedir.\n",
    "    for ELEMAN(A B VEYA C OLARAK YAZILABİLİR) in veri_yapısı(liste demet vs.):\n",
    "        yapılacak işlemler\n",
    "        \n",
    "Bu yapı şunu  açıklar, belirlenen ELEMAN her döngünün tekrar başlangıcında sırasıyla listenin veya demetin vs. bir elemanına eşitlenecek ve her döngüde bu sıradaki elemanla işlem yapılacak."
   ]
  },
  {
   "cell_type": "code",
   "execution_count": 1,
   "metadata": {},
   "outputs": [],
   "source": [
    "#Listeler üzerinde biraz gezinelim ve örnek yapalım"
   ]
  },
  {
   "cell_type": "code",
   "execution_count": 2,
   "metadata": {},
   "outputs": [
    {
     "name": "stdout",
     "output_type": "stream",
     "text": [
      "1\n",
      "2\n",
      "3\n",
      "4\n",
      "5\n",
      "6\n",
      "7\n"
     ]
    }
   ],
   "source": [
    "liste=[1,2,3,4,5,6,7]\n",
    "#bu işlemde her döngüde bir elemanı printliyoruz sırasıyla\n",
    "for eleman in liste:\n",
    "    print(eleman)"
   ]
  },
  {
   "cell_type": "code",
   "execution_count": 3,
   "metadata": {},
   "outputs": [],
   "source": [
    "#yukarıdaki örnekte döngü liste dışına çıkana kadar devam ediyor, \n",
    "#yani listedeki 7.elemandan sonra 8.ye geçmeye çalışınca listenin bittiğini anlayınca döngü sona eriyor"
   ]
  },
  {
   "cell_type": "code",
   "execution_count": 7,
   "metadata": {},
   "outputs": [
    {
     "name": "stdout",
     "output_type": "stream",
     "text": [
      "28\n"
     ]
    }
   ],
   "source": [
    "#listedeki elemanları toplayarak ilerleyelim\n",
    "\n",
    "liste =[1,2,3,4,5,6,7]\n",
    "toplam =0\n",
    "for eleman in liste:\n",
    "    toplam=toplam+eleman\n",
    "print(toplam)"
   ]
  },
  {
   "cell_type": "code",
   "execution_count": 9,
   "metadata": {},
   "outputs": [
    {
     "name": "stdout",
     "output_type": "stream",
     "text": [
      "Eleman: 1 Toplam: 1\n",
      "Eleman: 2 Toplam: 3\n",
      "Eleman: 3 Toplam: 6\n",
      "Eleman: 4 Toplam: 10\n",
      "Eleman: 5 Toplam: 15\n",
      "Eleman: 6 Toplam: 21\n",
      "Eleman: 7 Toplam: 28\n",
      "28\n"
     ]
    }
   ],
   "source": [
    "liste=[1,2,3,4,5,6,7]\n",
    "toplam=0\n",
    "\n",
    "for eleman in liste:\n",
    "    toplam=toplam+eleman\n",
    "    print(\"Eleman: {1} Toplam: {0}\".format(toplam,eleman))\n",
    "print(toplam)"
   ]
  },
  {
   "cell_type": "code",
   "execution_count": 10,
   "metadata": {},
   "outputs": [
    {
     "data": {
      "text/plain": [
       "0"
      ]
     },
     "execution_count": 10,
     "metadata": {},
     "output_type": "execute_result"
    }
   ],
   "source": [
    "#kalanı bulma operatörü ile sayı tek mi çift mi görebiliriz \"%\" operatörü\n",
    "60%2"
   ]
  },
  {
   "cell_type": "code",
   "execution_count": 18,
   "metadata": {},
   "outputs": [
    {
     "name": "stdout",
     "output_type": "stream",
     "text": [
      "Tek Sayı: 1\n",
      "Çift sayı: 4\n",
      "Tek Sayı: 5\n",
      "Tek Sayı: 11\n",
      "Tek Sayı: 17\n",
      "Çift sayı: 18\n",
      "Çift sayı: 22\n",
      "Tek Sayı: 113\n"
     ]
    }
   ],
   "source": [
    "liste=[1,4,5,11,17,18,22,113]\n",
    "a=0\n",
    "for eleman in liste:\n",
    "    if a==eleman%2:\n",
    "        print(\"Çift sayı: {}\".format(eleman))\n",
    "    else:\n",
    "        print(\"Tek Sayı: {}\".format(eleman))"
   ]
  },
  {
   "cell_type": "code",
   "execution_count": 19,
   "metadata": {},
   "outputs": [
    {
     "name": "stdout",
     "output_type": "stream",
     "text": [
      "(1, 2)\n",
      "(3, 4)\n",
      "(11, 12)\n"
     ]
    }
   ],
   "source": [
    "#listeler içinde demetler\n",
    "liste=[(1,2),(3,4),(11,12)]\n",
    "for eleman in liste:\n",
    "    print(eleman)"
   ]
  },
  {
   "cell_type": "code",
   "execution_count": 20,
   "metadata": {},
   "outputs": [
    {
     "name": "stdout",
     "output_type": "stream",
     "text": [
      "i: 1 j: 2\n",
      "i: 3 j: 4\n",
      "i: 11 j: 12\n"
     ]
    }
   ],
   "source": [
    "#yukarıda her bir eleman birer demet halindedir, ayrı olarak demetleri indekslemeye çalışırsak\n",
    "for (i,j) in liste:\n",
    "    print(\"i: {} j: {}\".format(i,j))"
   ]
  },
  {
   "cell_type": "code",
   "execution_count": 27,
   "metadata": {},
   "outputs": [
    {
     "name": "stdout",
     "output_type": "stream",
     "text": [
      "1 2 4\n",
      "8 9 7\n",
      "11 23 5\n"
     ]
    }
   ],
   "source": [
    "liste=[(1,2,4),(8,9,7),(11,23,5)]\n",
    "\n",
    "for (a,b,c) in liste:\n",
    "    print(a,b,c)\n"
   ]
  },
  {
   "cell_type": "code",
   "execution_count": 29,
   "metadata": {},
   "outputs": [
    {
     "name": "stdout",
     "output_type": "stream",
     "text": [
      "8\n",
      "504\n",
      "1265\n"
     ]
    }
   ],
   "source": [
    "liste=[(1,2,4),(8,9,7),(11,23,5)]\n",
    "\n",
    "for (a,b,c) in liste:\n",
    "    print(a*b*c)\n"
   ]
  },
  {
   "cell_type": "code",
   "execution_count": 30,
   "metadata": {},
   "outputs": [],
   "source": [
    "#sözlükler içerisinde gezinmek (dictionary), keys values items metodlarıyla çalışacağız"
   ]
  },
  {
   "cell_type": "code",
   "execution_count": 31,
   "metadata": {},
   "outputs": [
    {
     "data": {
      "text/plain": [
       "dict_keys(['bir', 'iki', 'üç', 'dört'])"
      ]
     },
     "execution_count": 31,
     "metadata": {},
     "output_type": "execute_result"
    }
   ],
   "source": [
    "sözlük={\"bir\":1,\"iki\":2,\"üç\":3,\"dört\":4}\n",
    "sözlük.keys()"
   ]
  },
  {
   "cell_type": "code",
   "execution_count": 32,
   "metadata": {},
   "outputs": [
    {
     "data": {
      "text/plain": [
       "dict_values([1, 2, 3, 4])"
      ]
     },
     "execution_count": 32,
     "metadata": {},
     "output_type": "execute_result"
    }
   ],
   "source": [
    "sözlük.values()"
   ]
  },
  {
   "cell_type": "code",
   "execution_count": 33,
   "metadata": {},
   "outputs": [
    {
     "data": {
      "text/plain": [
       "dict_items([('bir', 1), ('iki', 2), ('üç', 3), ('dört', 4)])"
      ]
     },
     "execution_count": 33,
     "metadata": {},
     "output_type": "execute_result"
    }
   ],
   "source": [
    "sözlük.items()"
   ]
  },
  {
   "cell_type": "code",
   "execution_count": 34,
   "metadata": {},
   "outputs": [
    {
     "name": "stdout",
     "output_type": "stream",
     "text": [
      "bir\n",
      "iki\n",
      "üç\n",
      "dört\n"
     ]
    }
   ],
   "source": [
    "sözlük={\"bir\":1,\"iki\":2,\"üç\":3,\"dört\":4}\n",
    "for eleman in sözlük:\n",
    "    print(eleman)"
   ]
  },
  {
   "cell_type": "code",
   "execution_count": 35,
   "metadata": {},
   "outputs": [],
   "source": [
    "#yukarıda sadece keyler geldi, value lar gelmedi, metodları kullanarak detaylandıracağız"
   ]
  },
  {
   "cell_type": "code",
   "execution_count": 36,
   "metadata": {},
   "outputs": [
    {
     "name": "stdout",
     "output_type": "stream",
     "text": [
      "1\n",
      "2\n",
      "3\n",
      "4\n"
     ]
    }
   ],
   "source": [
    "for eleman in sözlük.values():\n",
    "    print(eleman)"
   ]
  },
  {
   "cell_type": "code",
   "execution_count": 37,
   "metadata": {},
   "outputs": [
    {
     "name": "stdout",
     "output_type": "stream",
     "text": [
      "('bir', 1)\n",
      "('iki', 2)\n",
      "('üç', 3)\n",
      "('dört', 4)\n"
     ]
    }
   ],
   "source": [
    "for eleman in sözlük.items():\n",
    "    print(eleman)"
   ]
  },
  {
   "cell_type": "code",
   "execution_count": 38,
   "metadata": {},
   "outputs": [
    {
     "name": "stdout",
     "output_type": "stream",
     "text": [
      "Anahtar bir Değer 1\n",
      "Anahtar iki Değer 2\n",
      "Anahtar üç Değer 3\n",
      "Anahtar dört Değer 4\n"
     ]
    }
   ],
   "source": [
    "for x,y in sözlük.items():\n",
    "    print(\"Anahtar\",x, \"Değer\",y)"
   ]
  },
  {
   "cell_type": "code",
   "execution_count": null,
   "metadata": {},
   "outputs": [],
   "source": []
  }
 ],
 "metadata": {
  "kernelspec": {
   "display_name": "Python 3",
   "language": "python",
   "name": "python3"
  },
  "language_info": {
   "codemirror_mode": {
    "name": "ipython",
    "version": 3
   },
   "file_extension": ".py",
   "mimetype": "text/x-python",
   "name": "python",
   "nbconvert_exporter": "python",
   "pygments_lexer": "ipython3",
   "version": "3.8.5"
  }
 },
 "nbformat": 4,
 "nbformat_minor": 4
}
