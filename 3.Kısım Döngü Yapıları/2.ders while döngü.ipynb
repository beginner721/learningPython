{
 "cells": [
  {
   "cell_type": "markdown",
   "metadata": {},
   "source": [
    "For ile yapılan herşey While ile de yapılabilir,\n",
    "while (koşul):\n",
    "    işlemler...\n",
    "\n",
    "While döngülerinin sona ermesi için koşul durumunun false olması gerekir"
   ]
  },
  {
   "cell_type": "code",
   "execution_count": 6,
   "metadata": {},
   "outputs": [
    {
     "name": "stdout",
     "output_type": "stream",
     "text": [
      "i'nin değeri:  0\n",
      "i'nin değeri:  1\n",
      "i'nin değeri:  2\n",
      "i'nin değeri:  3\n",
      "i'nin değeri:  4\n",
      "i'nin değeri:  5\n",
      "i'nin değeri:  6\n",
      "i'nin değeri:  7\n",
      "i'nin değeri:  8\n",
      "i'nin değeri:  9\n"
     ]
    }
   ],
   "source": [
    "i=0\n",
    "while (i<10):\n",
    "    print(\"i'nin değeri: \",i)\n",
    "    i+=1"
   ]
  },
  {
   "cell_type": "code",
   "execution_count": 7,
   "metadata": {},
   "outputs": [
    {
     "name": "stdout",
     "output_type": "stream",
     "text": [
      "i'nin değeri:  0\n",
      "i'nin değeri:  2\n",
      "i'nin değeri:  4\n",
      "i'nin değeri:  6\n",
      "i'nin değeri:  8\n",
      "i'nin değeri:  10\n",
      "i'nin değeri:  12\n",
      "i'nin değeri:  14\n",
      "i'nin değeri:  16\n",
      "i'nin değeri:  18\n"
     ]
    }
   ],
   "source": [
    "i=0\n",
    "while (i<20):\n",
    "    print(\"i'nin değeri: \",i)\n",
    "    i+=2"
   ]
  },
  {
   "cell_type": "code",
   "execution_count": 8,
   "metadata": {},
   "outputs": [
    {
     "name": "stdout",
     "output_type": "stream",
     "text": [
      "1\n",
      "2\n",
      "3\n",
      "4\n",
      "5\n"
     ]
    }
   ],
   "source": [
    "#listelerde for ile gezilir ancak while ile de yapabiliriz, pek tercih edilmez\n",
    "liste=[1,2,3,4,5]\n",
    "for i in liste:\n",
    "    print(i)"
   ]
  },
  {
   "cell_type": "code",
   "execution_count": 12,
   "metadata": {},
   "outputs": [
    {
     "name": "stdout",
     "output_type": "stream",
     "text": [
      "indeks:  5 Liste Elemanı:  1\n",
      "indeks:  5 Liste Elemanı:  2\n",
      "indeks:  5 Liste Elemanı:  3\n",
      "indeks:  5 Liste Elemanı:  4\n",
      "indeks:  5 Liste Elemanı:  5\n"
     ]
    }
   ],
   "source": [
    "test=0\n",
    "while (test<len(liste)):\n",
    "    print(\"indeks: \",index,\"Liste Elemanı: \",liste[test])\n",
    "    test+=1"
   ]
  },
  {
   "cell_type": "code",
   "execution_count": 13,
   "metadata": {},
   "outputs": [
    {
     "data": {
      "text/plain": [
       "5"
      ]
     },
     "execution_count": 13,
     "metadata": {},
     "output_type": "execute_result"
    }
   ],
   "source": [
    "abc=[\"EUW:deneme123:deneme\",\"EUW:deneme123:deneme\",\"EUW:deneme123:deneme\",\"EUW:deneme123:deneme\",\"EUW:deneme123:deneme\"]\n",
    "len(abc)"
   ]
  },
  {
   "cell_type": "code",
   "execution_count": 17,
   "metadata": {},
   "outputs": [
    {
     "name": "stdout",
     "output_type": "stream",
     "text": [
      "Sıralama: 0 Yeni Hal: deneme123:deneme\n",
      "Sıralama: 1 Yeni Hal: deneme123:deneme\n",
      "Sıralama: 2 Yeni Hal: deneme123:deneme\n",
      "Sıralama: 3 Yeni Hal: deneme123:deneme\n",
      "Sıralama: 4 Yeni Hal: deneme123:deneme\n"
     ]
    }
   ],
   "source": [
    "silme=0\n",
    "while (silme<len(abc)):\n",
    "    print(\"Sıralama:\",silme,\"Yeni Hal:\",abc[silme][4:])\n",
    "    silme+=1"
   ]
  }
 ],
 "metadata": {
  "kernelspec": {
   "display_name": "Python 3",
   "language": "python",
   "name": "python3"
  },
  "language_info": {
   "codemirror_mode": {
    "name": "ipython",
    "version": 3
   },
   "file_extension": ".py",
   "mimetype": "text/x-python",
   "name": "python",
   "nbconvert_exporter": "python",
   "pygments_lexer": "ipython3",
   "version": "3.8.5"
  }
 },
 "nbformat": 4,
 "nbformat_minor": 4
}
