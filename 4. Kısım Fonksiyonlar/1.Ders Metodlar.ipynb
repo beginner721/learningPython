{
 "cells": [
  {
   "cell_type": "markdown",
   "metadata": {},
   "source": [
    "##Metod Nedir ?\n",
    "Pythonda kullandığımız pek çok veri tipi gördük ve bazı veritipleri üzerinde metodlar uyguladık. Bu veri tiplerini oluşturan her değişken pythonda object(obje) olarak düşünülür. Bu Objelere pek çok metod tanımlanmıştır.\n",
    "Örnek olarak bir liste objesinde belirli metodlar uygulanabilir."
   ]
  },
  {
   "cell_type": "code",
   "execution_count": 2,
   "metadata": {},
   "outputs": [
    {
     "name": "stdout",
     "output_type": "stream",
     "text": [
      "[1, 'Baran', 2, 3, 4, 5]\n"
     ]
    }
   ],
   "source": [
    "liste=[1,2,3,4,5]\n",
    "liste.insert(1,\"Baran\")\n",
    "#insert metodu belirlenen sıraya (1) belirlenen değeri (\"Baran\") ekler\n",
    "print(liste)"
   ]
  },
  {
   "cell_type": "code",
   "execution_count": 3,
   "metadata": {},
   "outputs": [
    {
     "name": "stdout",
     "output_type": "stream",
     "text": [
      "Help on built-in function insert:\n",
      "\n",
      "insert(index, object, /) method of builtins.list instance\n",
      "    Insert object before index.\n",
      "\n"
     ]
    }
   ],
   "source": [
    "#tab ile metod listesini görebilirken help komutuyla ne anlaman geldiğini bulabiliriz\n",
    "help(liste.insert)"
   ]
  },
  {
   "cell_type": "code",
   "execution_count": null,
   "metadata": {},
   "outputs": [],
   "source": [
    "#Nesne tabanlı programa kısmında metodlar daha hızlı anlaşılır."
   ]
  }
 ],
 "metadata": {
  "kernelspec": {
   "display_name": "Python 3",
   "language": "python",
   "name": "python3"
  },
  "language_info": {
   "codemirror_mode": {
    "name": "ipython",
    "version": 3
   },
   "file_extension": ".py",
   "mimetype": "text/x-python",
   "name": "python",
   "nbconvert_exporter": "python",
   "pygments_lexer": "ipython3",
   "version": "3.8.5"
  }
 },
 "nbformat": 4,
 "nbformat_minor": 4
}
