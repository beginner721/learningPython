{
 "cells": [
  {
   "cell_type": "markdown",
   "metadata": {},
   "source": [
    "Hatırlayalım\n",
    "\n",
    "Fonksiyon tanımlanırken değişkenler =PARAMETRE **////////**\n",
    "Fonksiyon kullanılırken içine gönderilen değerler= ARGÜMAN"
   ]
  },
  {
   "cell_type": "markdown",
   "metadata": {},
   "source": [
    "### Parametrenin Varsayılan Değerleri"
   ]
  },
  {
   "cell_type": "markdown",
   "metadata": {},
   "source": [
    "Tanımlanan fopnksiyonlarda varsayılan değerler tanımlanmazsa, içi boş halde çalışmazlar.\n",
    "Ancak varsayılan bir değer belirlersek, her durumda çalışacaklardır. İki örnekle bunları gösterelim"
   ]
  },
  {
   "cell_type": "code",
   "execution_count": 1,
   "metadata": {},
   "outputs": [],
   "source": [
    "def selam(adiniz):\n",
    "    print(\"Merhaba \",adiniz)"
   ]
  },
  {
   "cell_type": "code",
   "execution_count": 3,
   "metadata": {},
   "outputs": [
    {
     "name": "stdout",
     "output_type": "stream",
     "text": [
      "Merhaba  Baran\n"
     ]
    }
   ],
   "source": [
    "selam(\"Baran\")"
   ]
  },
  {
   "cell_type": "code",
   "execution_count": 4,
   "metadata": {},
   "outputs": [
    {
     "ename": "TypeError",
     "evalue": "selam() missing 1 required positional argument: 'adiniz'",
     "output_type": "error",
     "traceback": [
      "\u001b[1;31m---------------------------------------------------------------------------\u001b[0m",
      "\u001b[1;31mTypeError\u001b[0m                                 Traceback (most recent call last)",
      "\u001b[1;32m<ipython-input-4-4af25feaaf8c>\u001b[0m in \u001b[0;36m<module>\u001b[1;34m\u001b[0m\n\u001b[0;32m      1\u001b[0m \u001b[1;31m#ancak boş argüman verirsek yani içinde değer girmezsek çalışmayacaktır.\u001b[0m\u001b[1;33m\u001b[0m\u001b[1;33m\u001b[0m\u001b[1;33m\u001b[0m\u001b[0m\n\u001b[1;32m----> 2\u001b[1;33m \u001b[0mselam\u001b[0m\u001b[1;33m(\u001b[0m\u001b[1;33m)\u001b[0m\u001b[1;33m\u001b[0m\u001b[1;33m\u001b[0m\u001b[0m\n\u001b[0m",
      "\u001b[1;31mTypeError\u001b[0m: selam() missing 1 required positional argument: 'adiniz'"
     ]
    }
   ],
   "source": [
    "#ancak boş argüman verirsek yani içinde değer girmezsek çalışmayacaktır. \n",
    "selam()"
   ]
  },
  {
   "cell_type": "code",
   "execution_count": 5,
   "metadata": {},
   "outputs": [],
   "source": [
    "#bunu önlemek için varsayılan değer belirleyebiliriz, yani örnek olarak içi boşken veri yok diyebilir...\n",
    "\n",
    "def selam(adiniz=\"Veri Yok\"):\n",
    "    print(\"Merhaba \",adiniz)"
   ]
  },
  {
   "cell_type": "code",
   "execution_count": 6,
   "metadata": {},
   "outputs": [
    {
     "name": "stdout",
     "output_type": "stream",
     "text": [
      "Merhaba  Veri Yok\n"
     ]
    }
   ],
   "source": [
    "selam()"
   ]
  },
  {
   "cell_type": "markdown",
   "metadata": {},
   "source": [
    "Birden fazla parametre olduğu durumlar ..."
   ]
  },
  {
   "cell_type": "code",
   "execution_count": 15,
   "metadata": {},
   "outputs": [],
   "source": [
    "def bilgiler(ad=\"Bilgi yok\", soyad=\"Bilgi yok\", numara=\"Bilgi yok\"):\n",
    "    print(\"Ad: \",ad, \"\\nSoyad: \",soyad , \"\\nNumara: \",numara)"
   ]
  },
  {
   "cell_type": "code",
   "execution_count": 16,
   "metadata": {},
   "outputs": [
    {
     "name": "stdout",
     "output_type": "stream",
     "text": [
      "Ad:  memduh \n",
      "Soyad:  baran \n",
      "Numara:  5432145522\n"
     ]
    }
   ],
   "source": [
    "bilgiler(\"memduh\",\"baran\",\"5432145522\")"
   ]
  },
  {
   "cell_type": "code",
   "execution_count": 17,
   "metadata": {},
   "outputs": [
    {
     "name": "stdout",
     "output_type": "stream",
     "text": [
      "Ad:  Bilgi yok \n",
      "Soyad:  Bilgi yok \n",
      "Numara:  Bilgi yok\n"
     ]
    }
   ],
   "source": [
    "bilgiler()"
   ]
  },
  {
   "cell_type": "code",
   "execution_count": 18,
   "metadata": {},
   "outputs": [
    {
     "name": "stdout",
     "output_type": "stream",
     "text": [
      "Ad:  Memduh \n",
      "Soyad:  Baran \n",
      "Numara:  Bilgi yok\n"
     ]
    }
   ],
   "source": [
    "bilgiler(\"Memduh\",\"Baran\")"
   ]
  },
  {
   "cell_type": "code",
   "execution_count": 19,
   "metadata": {},
   "outputs": [
    {
     "name": "stdout",
     "output_type": "stream",
     "text": [
      "Ad:  Bilgi yok \n",
      "Soyad:  Bilgi yok \n",
      "Numara:  1232345\n"
     ]
    }
   ],
   "source": [
    "#yalnızca tek parametreye de bir argüman verilebilir\n",
    "bilgiler(numara=\"1232345\")"
   ]
  },
  {
   "cell_type": "code",
   "execution_count": 21,
   "metadata": {},
   "outputs": [
    {
     "name": "stdout",
     "output_type": "stream",
     "text": [
      "Memduh ayn Baran ayn Kurtboğan\n"
     ]
    }
   ],
   "source": [
    "#sep parametresi de dersin başlarında  varsayılan olarak boşluk ataması yapardı\n",
    "#biz istediğimiz değeri ekstra olarak ekleyebiliriz\n",
    "print(\"Memduh\", \"Baran\", \"Kurtboğan\", sep= \" ayn \")"
   ]
  },
  {
   "cell_type": "code",
   "execution_count": 22,
   "metadata": {},
   "outputs": [
    {
     "name": "stdout",
     "output_type": "stream",
     "text": [
      "Memduh Baran Kurtboğan\n"
     ]
    }
   ],
   "source": [
    "print(\"Memduh\", \"Baran\", \"Kurtboğan\")"
   ]
  },
  {
   "cell_type": "code",
   "execution_count": null,
   "metadata": {},
   "outputs": [],
   "source": []
  }
 ],
 "metadata": {
  "kernelspec": {
   "display_name": "Python 3",
   "language": "python",
   "name": "python3"
  },
  "language_info": {
   "codemirror_mode": {
    "name": "ipython",
    "version": 3
   },
   "file_extension": ".py",
   "mimetype": "text/x-python",
   "name": "python",
   "nbconvert_exporter": "python",
   "pygments_lexer": "ipython3",
   "version": "3.8.5"
  }
 },
 "nbformat": 4,
 "nbformat_minor": 4
}
