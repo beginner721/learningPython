{
 "cells": [
  {
   "cell_type": "markdown",
   "metadata": {},
   "source": [
    "Bu konuda global ve local değişkenleri öğreneceğiz\n",
    "pythonda her bir değişkenin/fonksiyonun ve ileride göreceğimiz class(sınıfların) bir scope'u (kapsamı) bulunur.\n",
    "Python her bir değişken için bir namespace tanımlar.\n",
    "Değişkenlerin Namespace( isim alanı) ise  bu değişkenlerin nerelerde var olduğunu ve nerelerde kullanılabileceğini gösterir."
   ]
  },
  {
   "cell_type": "markdown",
   "metadata": {},
   "source": [
    "Fonksiyonlarda tanımlanan değişkenler local değişkenlerdir, fonksiyonun içinde yer alır her yerde geçerli değildir, yalnızca o fonksiyonun içerisinde anlamlıdır. YERELDİR. Başka yerden erişilemez.\n",
    "Fonksiyon çalışır bu değerler aktif olur, fonksiyon kullanılmayı bıraktığında ise bu veriler bellekten silinir yok olur.\n",
    "Global değişkenler için ise tanımlandığı andan itibaren her yerden ulaşılabilir."
   ]
  },
  {
   "cell_type": "code",
   "execution_count": 3,
   "metadata": {},
   "outputs": [
    {
     "name": "stdout",
     "output_type": "stream",
     "text": [
      "Böl: 2.5\n"
     ]
    }
   ],
   "source": [
    "#LOCAL DEĞİŞKENLER\n",
    "def ikiyebol(a):\n",
    "    print(\"Böl:\",a/2)\n",
    "ikiyebol(5)\n",
    "    "
   ]
  },
  {
   "cell_type": "code",
   "execution_count": 5,
   "metadata": {},
   "outputs": [
    {
     "name": "stdout",
     "output_type": "stream",
     "text": [
      "Böl: 2.5\n"
     ]
    },
    {
     "ename": "NameError",
     "evalue": "name 'a' is not defined",
     "output_type": "error",
     "traceback": [
      "\u001b[1;31m---------------------------------------------------------------------------\u001b[0m",
      "\u001b[1;31mNameError\u001b[0m                                 Traceback (most recent call last)",
      "\u001b[1;32m<ipython-input-5-069aa91cdeba>\u001b[0m in \u001b[0;36m<module>\u001b[1;34m\u001b[0m\n\u001b[0;32m      1\u001b[0m \u001b[0mikiyebol\u001b[0m\u001b[1;33m(\u001b[0m\u001b[1;36m5\u001b[0m\u001b[1;33m)\u001b[0m\u001b[1;33m\u001b[0m\u001b[1;33m\u001b[0m\u001b[0m\n\u001b[1;32m----> 2\u001b[1;33m \u001b[0mprint\u001b[0m\u001b[1;33m(\u001b[0m\u001b[0ma\u001b[0m\u001b[1;33m)\u001b[0m\u001b[1;33m\u001b[0m\u001b[1;33m\u001b[0m\u001b[0m\n\u001b[0m",
      "\u001b[1;31mNameError\u001b[0m: name 'a' is not defined"
     ]
    }
   ],
   "source": [
    "ikiyebol(5)\n",
    "print(a) #a basılmadı çünkü fonksiyonla birlikte son buldu"
   ]
  },
  {
   "cell_type": "code",
   "execution_count": 6,
   "metadata": {},
   "outputs": [
    {
     "name": "stdout",
     "output_type": "stream",
     "text": [
      "Böl: 2.5\n"
     ]
    },
    {
     "ename": "NameError",
     "evalue": "name 'a' is not defined",
     "output_type": "error",
     "traceback": [
      "\u001b[1;31m---------------------------------------------------------------------------\u001b[0m",
      "\u001b[1;31mNameError\u001b[0m                                 Traceback (most recent call last)",
      "\u001b[1;32m<ipython-input-6-5ff21446863d>\u001b[0m in \u001b[0;36m<module>\u001b[1;34m\u001b[0m\n\u001b[0;32m      4\u001b[0m     \u001b[1;32mreturn\u001b[0m\u001b[1;33m\u001b[0m\u001b[1;33m\u001b[0m\u001b[0m\n\u001b[0;32m      5\u001b[0m \u001b[0mikiyebol\u001b[0m\u001b[1;33m(\u001b[0m\u001b[1;36m5\u001b[0m\u001b[1;33m)\u001b[0m\u001b[1;33m\u001b[0m\u001b[1;33m\u001b[0m\u001b[0m\n\u001b[1;32m----> 6\u001b[1;33m \u001b[0mprint\u001b[0m\u001b[1;33m(\u001b[0m\u001b[0ma\u001b[0m\u001b[1;33m)\u001b[0m\u001b[1;33m\u001b[0m\u001b[1;33m\u001b[0m\u001b[0m\n\u001b[0m\u001b[0;32m      7\u001b[0m \u001b[1;33m\u001b[0m\u001b[0m\n",
      "\u001b[1;31mNameError\u001b[0m: name 'a' is not defined"
     ]
    }
   ],
   "source": [
    "#LOCAL DEĞİŞKENLER\n",
    "def ikiyebol(a):\n",
    "    print(\"Böl:\",a/2)\n",
    "    return\n",
    "\n",
    "ikiyebol(5)\n",
    "print(a) #a basılmadı çünkü fonksiyonla birlikte son buldu LOCAl değişken\n",
    "    "
   ]
  },
  {
   "cell_type": "code",
   "execution_count": 9,
   "metadata": {},
   "outputs": [
    {
     "name": "stdout",
     "output_type": "stream",
     "text": [
      "5\n"
     ]
    }
   ],
   "source": [
    "#GLOBAL DEĞİŞKENLER\n",
    "a=5 #global olarak a değeri artık her yerde 5 olacaktır\n",
    "def fonksiyon():\n",
    "    print(a)\n",
    "    \n",
    "fonksiyon() #a ya fonksiyonda bir değer vermedik ancak yine de 5 olduğunu anladı"
   ]
  },
  {
   "cell_type": "code",
   "execution_count": 16,
   "metadata": {},
   "outputs": [
    {
     "ename": "NameError",
     "evalue": "name 'c' is not defined",
     "output_type": "error",
     "traceback": [
      "\u001b[1;31m---------------------------------------------------------------------------\u001b[0m",
      "\u001b[1;31mNameError\u001b[0m                                 Traceback (most recent call last)",
      "\u001b[1;32m<ipython-input-16-428f98e15a2b>\u001b[0m in \u001b[0;36m<module>\u001b[1;34m\u001b[0m\n\u001b[0;32m      2\u001b[0m     \u001b[0mprint\u001b[0m\u001b[1;33m(\u001b[0m\u001b[0mc\u001b[0m\u001b[1;33m)\u001b[0m\u001b[1;33m\u001b[0m\u001b[1;33m\u001b[0m\u001b[0m\n\u001b[0;32m      3\u001b[0m \u001b[1;33m\u001b[0m\u001b[0m\n\u001b[1;32m----> 4\u001b[1;33m \u001b[0mfonksiyon\u001b[0m\u001b[1;33m(\u001b[0m\u001b[1;33m)\u001b[0m\u001b[1;33m\u001b[0m\u001b[1;33m\u001b[0m\u001b[0m\n\u001b[0m\u001b[0;32m      5\u001b[0m \u001b[0mc\u001b[0m\u001b[1;33m=\u001b[0m\u001b[1;36m5\u001b[0m \u001b[1;31m#fonksiyondan önce tanımlanmalıdır, fonksiyon işlenirken s nin 5 olduğunu bilmiyordu, çünkü altta kaldı...\u001b[0m\u001b[1;33m\u001b[0m\u001b[1;33m\u001b[0m\u001b[0m\n",
      "\u001b[1;32m<ipython-input-16-428f98e15a2b>\u001b[0m in \u001b[0;36mfonksiyon\u001b[1;34m()\u001b[0m\n\u001b[0;32m      1\u001b[0m \u001b[1;32mdef\u001b[0m \u001b[0mfonksiyon\u001b[0m\u001b[1;33m(\u001b[0m\u001b[1;33m)\u001b[0m\u001b[1;33m:\u001b[0m\u001b[1;33m\u001b[0m\u001b[1;33m\u001b[0m\u001b[0m\n\u001b[1;32m----> 2\u001b[1;33m     \u001b[0mprint\u001b[0m\u001b[1;33m(\u001b[0m\u001b[0mc\u001b[0m\u001b[1;33m)\u001b[0m\u001b[1;33m\u001b[0m\u001b[1;33m\u001b[0m\u001b[0m\n\u001b[0m\u001b[0;32m      3\u001b[0m \u001b[1;33m\u001b[0m\u001b[0m\n\u001b[0;32m      4\u001b[0m \u001b[0mfonksiyon\u001b[0m\u001b[1;33m(\u001b[0m\u001b[1;33m)\u001b[0m\u001b[1;33m\u001b[0m\u001b[1;33m\u001b[0m\u001b[0m\n\u001b[0;32m      5\u001b[0m \u001b[0mc\u001b[0m\u001b[1;33m=\u001b[0m\u001b[1;36m5\u001b[0m \u001b[1;31m#fonksiyondan önce tanımlanmalıdır, fonksiyon işlenirken s nin 5 olduğunu bilmiyordu, çünkü altta kaldı...\u001b[0m\u001b[1;33m\u001b[0m\u001b[1;33m\u001b[0m\u001b[0m\n",
      "\u001b[1;31mNameError\u001b[0m: name 'c' is not defined"
     ]
    }
   ],
   "source": [
    "def fonksiyon():\n",
    "    print(c)\n",
    "    \n",
    "fonksiyon()\n",
    "c=5 #fonksiyondan önce tanımlanmalıdır, fonksiyon işlenirken s nin 5 olduğunu bilmiyordu, çünkü altta kaldı..."
   ]
  },
  {
   "cell_type": "code",
   "execution_count": 18,
   "metadata": {},
   "outputs": [
    {
     "name": "stdout",
     "output_type": "stream",
     "text": [
      "2\n",
      "10\n"
     ]
    }
   ],
   "source": [
    "c=10\n",
    "def fonksiyon():\n",
    "    c=2\n",
    "    print(c)\n",
    "\n",
    "fonksiyon()\n",
    "print(c)"
   ]
  },
  {
   "cell_type": "markdown",
   "metadata": {},
   "source": [
    "Yukarıda fonksiyon kullanılınca c=2 oldu, ardından fonksiyon sonlanınca print(c) işlemi 10 olarak globalden bulunup kullanıldı ....\n",
    "yani iki adet c değerimiz oldu, biri global biri local olarak kullanılabilir halde\n"
   ]
  },
  {
   "cell_type": "markdown",
   "metadata": {},
   "source": [
    "### Globalde tanımlanan değeri fonksiyon içinde de kullanmak..."
   ]
  },
  {
   "cell_type": "code",
   "execution_count": 22,
   "metadata": {},
   "outputs": [
    {
     "name": "stdout",
     "output_type": "stream",
     "text": [
      "4\n",
      "4\n"
     ]
    }
   ],
   "source": [
    "d=10 #global d değeri oluşturduk\n",
    "\n",
    "def fonksiyon():\n",
    "    global d #global d değerini kullanacağımızı söyledik\n",
    "    \n",
    "    d=4 #global d değerimiz artık 4 oldu\n",
    "    print(d) \n",
    "    \n",
    "fonksiyon() #fonksiyon ile birlikte d=4\n",
    "print(d) #artık globalde de d=4, çünkü içeride global d değiştirilmiş oldu, \n",
    "#yeni bir d değişkeni tanımlamadık, aynısını kullandık"
   ]
  },
  {
   "cell_type": "markdown",
   "metadata": {},
   "source": [
    "#### if ve while içinde tanımlanan değişkenler local olmaz, global sayılır..."
   ]
  },
  {
   "cell_type": "code",
   "execution_count": 24,
   "metadata": {},
   "outputs": [
    {
     "name": "stdout",
     "output_type": "stream",
     "text": [
      "10\n",
      "10\n"
     ]
    }
   ],
   "source": [
    "while True:\n",
    "    deger=10 #deger 10 dedik\n",
    "    print(deger)  #while döngüsünde degeri print ettik\n",
    "    break\n",
    "    \n",
    "print(deger) #globalde de print edilince aynı olacaktır, çünkü deger LOCAL olmadı!! , global olarak algılandı\n",
    "#döngüde olması onu local hale getirmiyor..."
   ]
  },
  {
   "cell_type": "code",
   "execution_count": null,
   "metadata": {},
   "outputs": [],
   "source": []
  }
 ],
 "metadata": {
  "kernelspec": {
   "display_name": "Python 3",
   "language": "python",
   "name": "python3"
  },
  "language_info": {
   "codemirror_mode": {
    "name": "ipython",
    "version": 3
   },
   "file_extension": ".py",
   "mimetype": "text/x-python",
   "name": "python",
   "nbconvert_exporter": "python",
   "pygments_lexer": "ipython3",
   "version": "3.8.5"
  }
 },
 "nbformat": 4,
 "nbformat_minor": 4
}
