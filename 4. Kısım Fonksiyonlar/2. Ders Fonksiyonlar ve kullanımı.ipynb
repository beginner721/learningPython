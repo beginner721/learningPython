{
 "cells": [
  {
   "cell_type": "markdown",
   "metadata": {},
   "source": [
    "Fonksiyonlar bir defa tanımlanır ve kodlama yaparken programların değişik yerlerinde tekrar tekrar kullanılırlar.\n",
    "Ayrıca fonksiyonlar kod tekrarını engeller, örnek olarak bir faktöriyel işlemi için kodları tekrar tekrar yazacağımıza tek seferde faktoriyel fonksiyonunu oluşturur ve doğrudan kullanırız.\n",
    "\n",
    "Örnek olarak print fonksiyonu bir fonksiyondur, içine gönderilen değerleri ekrana yazdırır.\n",
    "Print bir built-in function, yani gömülü fonksiyondur.\n",
    "Bizim oluşturacağımız fonksiyonlar user defined function olarak geçecektir.\n"
   ]
  },
  {
   "cell_type": "markdown",
   "metadata": {},
   "source": [
    "Fonksiyonlar def kelimesi ile tanımlanır:\n",
    "\n",
    "    def fonksiyon_adı(parametre1,parametre1....(opsiyonel))\n",
    "        #fonksiyon bloğu\n",
    "        yapılacak işlemler\n",
    "        #dönüş değeri(return / opsiyonel)\n",
    "        "
   ]
  },
  {
   "cell_type": "code",
   "execution_count": 1,
   "metadata": {},
   "outputs": [],
   "source": [
    "def selamla():\n",
    "    print(\"Merhabalar\")\n",
    "    print(\"Nasılsınız\")"
   ]
  },
  {
   "cell_type": "code",
   "execution_count": 2,
   "metadata": {},
   "outputs": [
    {
     "data": {
      "text/plain": [
       "function"
      ]
     },
     "execution_count": 2,
     "metadata": {},
     "output_type": "execute_result"
    }
   ],
   "source": [
    "type(selamla)"
   ]
  },
  {
   "cell_type": "code",
   "execution_count": 4,
   "metadata": {},
   "outputs": [
    {
     "name": "stdout",
     "output_type": "stream",
     "text": [
      "Merhabalar\n",
      "Nasılsınız\n"
     ]
    }
   ],
   "source": [
    "selamla() #fonksiyonda parametre bulunmadığı için içinde argümanları gönderemiyoruz"
   ]
  },
  {
   "cell_type": "code",
   "execution_count": 5,
   "metadata": {},
   "outputs": [
    {
     "ename": "TypeError",
     "evalue": "selamla() takes 0 positional arguments but 1 was given",
     "output_type": "error",
     "traceback": [
      "\u001b[1;31m---------------------------------------------------------------------------\u001b[0m",
      "\u001b[1;31mTypeError\u001b[0m                                 Traceback (most recent call last)",
      "\u001b[1;32m<ipython-input-5-087a34259f99>\u001b[0m in \u001b[0;36m<module>\u001b[1;34m\u001b[0m\n\u001b[1;32m----> 1\u001b[1;33m \u001b[0mselamla\u001b[0m\u001b[1;33m(\u001b[0m\u001b[1;36m1\u001b[0m\u001b[1;33m)\u001b[0m\u001b[1;33m\u001b[0m\u001b[1;33m\u001b[0m\u001b[0m\n\u001b[0m",
      "\u001b[1;31mTypeError\u001b[0m: selamla() takes 0 positional arguments but 1 was given"
     ]
    }
   ],
   "source": [
    "selamla(1) #gönderemedik..."
   ]
  },
  {
   "cell_type": "code",
   "execution_count": 6,
   "metadata": {},
   "outputs": [],
   "source": [
    "#TANIMLANAN FONKSİYONUN KULLANILMASINA FUNCTION CALL DENİR... "
   ]
  },
  {
   "cell_type": "code",
   "execution_count": 7,
   "metadata": {},
   "outputs": [
    {
     "name": "stdout",
     "output_type": "stream",
     "text": [
      "Merhabalar\n",
      "Nasılsınız\n"
     ]
    }
   ],
   "source": [
    "selamla() #fonksiyon çağrısı yaptık"
   ]
  },
  {
   "cell_type": "markdown",
   "metadata": {},
   "source": [
    "# Parametreler ve Argümanlar\n",
    "Fonksiyon tanımlanırken her bir değişken PARAMETRE olarak adlandırılır\n",
    "Fonksiyon çağrısı yapılırken içine gönderilen değerler de ARGÜMAN'dır.\n",
    "Fonksiyonlar argümanlara göre işlem yaparak ekrana farklı değer yazdırır.\n"
   ]
  },
  {
   "cell_type": "code",
   "execution_count": 8,
   "metadata": {},
   "outputs": [],
   "source": [
    "def toplama(a,b,c):\n",
    "    print(\"Toplamları\",a+b+c)"
   ]
  },
  {
   "cell_type": "code",
   "execution_count": 9,
   "metadata": {},
   "outputs": [
    {
     "name": "stdout",
     "output_type": "stream",
     "text": [
      "Toplamları 7\n"
     ]
    }
   ],
   "source": [
    "toplama(1,2,4)"
   ]
  },
  {
   "cell_type": "code",
   "execution_count": 10,
   "metadata": {},
   "outputs": [
    {
     "name": "stdout",
     "output_type": "stream",
     "text": [
      "Toplamları 702702\n"
     ]
    }
   ],
   "source": [
    "toplama(234234,234234,234234)"
   ]
  },
  {
   "cell_type": "code",
   "execution_count": 11,
   "metadata": {},
   "outputs": [],
   "source": [
    "#faktoriyel hesaplayan fonksiyon yazalım\n",
    "\n",
    "def fak(sayi):\n",
    "    faktoriyel=1\n",
    "    if (sayi==0 or sayi ==1):\n",
    "        print(\"Faktoriyel: \",faktoriyel)\n",
    "    else:\n",
    "        while sayi>=1:\n",
    "            faktoriyel*=sayi\n",
    "            sayi-=1\n",
    "            print(\"Faktoriyel: \",faktoriyel)"
   ]
  },
  {
   "cell_type": "code",
   "execution_count": 13,
   "metadata": {},
   "outputs": [
    {
     "name": "stdout",
     "output_type": "stream",
     "text": [
      "Faktoriyel:  5\n",
      "Faktoriyel:  20\n",
      "Faktoriyel:  60\n",
      "Faktoriyel:  120\n",
      "Faktoriyel:  120\n"
     ]
    }
   ],
   "source": [
    "#beşin faktöriyelini alalım\n",
    "fak(5)"
   ]
  },
  {
   "cell_type": "markdown",
   "metadata": {},
   "source": [
    "bir sonraki derste return işlenecek, orada çıktısı alınan bu verilerin depolanması kullanılması anlatılacak\n",
    "şu anki hali ile sadece print yapılıyor ancak return ile birlikte bu çıktıları bir değişkene atayabileceğiz."
   ]
  },
  {
   "cell_type": "code",
   "execution_count": 14,
   "metadata": {},
   "outputs": [
    {
     "ename": "SyntaxError",
     "evalue": "cannot assign to function call (<ipython-input-14-8301b3b122e6>, line 1)",
     "output_type": "error",
     "traceback": [
      "\u001b[1;36m  File \u001b[1;32m\"<ipython-input-14-8301b3b122e6>\"\u001b[1;36m, line \u001b[1;32m1\u001b[0m\n\u001b[1;33m    fak(5)=a\u001b[0m\n\u001b[1;37m    ^\u001b[0m\n\u001b[1;31mSyntaxError\u001b[0m\u001b[1;31m:\u001b[0m cannot assign to function call\n"
     ]
    }
   ],
   "source": [
    "fak(5)=a\n",
    "print(a)"
   ]
  },
  {
   "cell_type": "markdown",
   "metadata": {},
   "source": [
    "#yukarıda fak(5) çıktısını a değişkenine tanımlayamadık, çünkü fonksiyondaki veriler sadece print edildi, fonksiyona geri çağrılmadı, ya da bir yerde depolanmadı. sadece ekrana basılıp kayboldular....."
   ]
  },
  {
   "cell_type": "code",
   "execution_count": null,
   "metadata": {},
   "outputs": [],
   "source": []
  }
 ],
 "metadata": {
  "kernelspec": {
   "display_name": "Python 3",
   "language": "python",
   "name": "python3"
  },
  "language_info": {
   "codemirror_mode": {
    "name": "ipython",
    "version": 3
   },
   "file_extension": ".py",
   "mimetype": "text/x-python",
   "name": "python",
   "nbconvert_exporter": "python",
   "pygments_lexer": "ipython3",
   "version": "3.8.5"
  }
 },
 "nbformat": 4,
 "nbformat_minor": 4
}
