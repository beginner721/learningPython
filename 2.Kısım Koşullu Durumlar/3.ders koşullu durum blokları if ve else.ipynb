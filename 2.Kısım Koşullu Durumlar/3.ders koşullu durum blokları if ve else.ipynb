{
 "cells": [
  {
   "cell_type": "code",
   "execution_count": 1,
   "metadata": {},
   "outputs": [
    {
     "name": "stdout",
     "output_type": "stream",
     "text": [
      "9\n"
     ]
    }
   ],
   "source": [
    "#python programı en üst satırdan başlayarak adım adım bütün kodları çalıştırır\n",
    "#çalıştıracak kod kalmadığında program sonra erer\n",
    "a=2\n",
    "b=3\n",
    "c=4\n",
    "print(a+b+c)"
   ]
  },
  {
   "cell_type": "code",
   "execution_count": 2,
   "metadata": {},
   "outputs": [
    {
     "name": "stdout",
     "output_type": "stream",
     "text": [
      "2\n",
      "Merhaba\n"
     ]
    }
   ],
   "source": [
    "#ancak python programları bu kadar basit olmayabilir, blok olarak çalışabilir\n",
    "# her blok sürekli çalışmaz, yalnızca belirtilen bloklar çalışabilir\n",
    "#girintiler sayesinde blokları tanımlarız, bi kodu biraz daha içeride yazarsak başka bir bloka ait olacaktır\n",
    "#bazı durumlarda bu bloklar çalışacaktır bazı durumlarda da çalışmayacaktır.\n",
    "\n",
    "a=2 #BLOK 1 KODU\n",
    "if(a==2):\n",
    "    print(a) #BLOK 2 KODU\n",
    "print(\"Merhaba\") #BLOK 1 KODU\n",
    "\n",
    "#kodlar bu şekilde blok halinde düşünülebilir."
   ]
  },
  {
   "cell_type": "code",
   "execution_count": 5,
   "metadata": {},
   "outputs": [
    {
     "name": "stdout",
     "output_type": "stream",
     "text": [
      "Merhaba\n"
     ]
    }
   ],
   "source": [
    "#yukardaki işlemde hepsi çalıştı, ancak a = 3 dersek işler değişir.\n",
    "a=2 #BLOK 1 \n",
    "if(a==3):\n",
    "    print(a) #BLOK 2\n",
    "print(\"Merhaba\") #BLOK 1 \n",
    "#gördüğümüz gibi blok 2 çalışmayacaktır, çünkü istenen durum olmuşmuyor"
   ]
  },
  {
   "cell_type": "markdown",
   "metadata": {},
   "source": [
    "# if Bloğu\n",
    "if bloğu programın içinde belirli bir koşulu kontrol etmek istenirse kullanılır\n",
    "        if(koşul):\n",
    "            #if bloğu- koşul sağlanınca (true) çalışır, bu hizada bulunan her işlem if bloğuna aittir\n",
    "            #if bloğu- girintiyle oluşturulur.\n",
    "if bloğu eğer koşuls ağlanırsa anlamı taşır eğer if kalıbındaki koşul sağlanırsa if bloğu çalışır, sağlanmazsa çalışmayacaktır"
   ]
  },
  {
   "cell_type": "code",
   "execution_count": 6,
   "metadata": {},
   "outputs": [
    {
     "name": "stdout",
     "output_type": "stream",
     "text": [
      "Yaşınızı girin:15\n",
      "Mekana Giremezsiniz\n"
     ]
    }
   ],
   "source": [
    "yaş=int(input(\"Yaşınızı girin:\"))\n",
    "#jupyter notebook iften sonra kendisi 1 tab girinti oluşturur, \n",
    "# farklı bir idle kullanıyorsanız TAB ile kendiniz girinti oluşturabilirsiniz\n",
    "if yaş < 18:\n",
    "    print(\"Mekana Giremezsiniz\")"
   ]
  },
  {
   "cell_type": "code",
   "execution_count": 7,
   "metadata": {},
   "outputs": [
    {
     "name": "stdout",
     "output_type": "stream",
     "text": [
      "Yaşınızı girin:19\n"
     ]
    }
   ],
   "source": [
    "#18 yaşından büyükse yazı yazdıramıyoruz, bunun için else bloğu kullanılacaktır.\n",
    "yaş=int(input(\"Yaşınızı girin:\"))\n",
    "if yaş < 18:\n",
    "    print(\"Mekana Giremezsiniz\")"
   ]
  },
  {
   "cell_type": "code",
   "execution_count": 8,
   "metadata": {},
   "outputs": [
    {
     "name": "stdout",
     "output_type": "stream",
     "text": [
      "Yaşınızı girin:17\n",
      "Mekana giremezsiniz\n"
     ]
    }
   ],
   "source": [
    "yaş=int(input(\"Yaşınızı girin:\"))\n",
    "if yaş<18:\n",
    "    print(\"Mekana giremezsiniz\")\n",
    "#else bloğuna koşul/durum yazılmaz, çünkü yalnızca yukarıdaki durum sağlanmazsa else bloğu kendiliğinden çalışacaktır\n",
    "else:\n",
    "    print(\"Mekana Hoşgeldiniz\")"
   ]
  },
  {
   "cell_type": "code",
   "execution_count": 9,
   "metadata": {},
   "outputs": [
    {
     "name": "stdout",
     "output_type": "stream",
     "text": [
      "Yaşınızı girin:22\n",
      "Mekana Hoşgeldiniz\n"
     ]
    }
   ],
   "source": [
    "yaş=int(input(\"Yaşınızı girin:\"))\n",
    "if yaş<18:\n",
    "    print(\"Mekana giremezsiniz\")\n",
    "else:\n",
    "    print(\"Mekana Hoşgeldiniz\")"
   ]
  },
  {
   "cell_type": "code",
   "execution_count": 11,
   "metadata": {},
   "outputs": [
    {
     "name": "stdout",
     "output_type": "stream",
     "text": [
      "Sayı:-3\n",
      "Negatif Sayı\n"
     ]
    }
   ],
   "source": [
    "sayi=int(input(\"Sayı:\"))\n",
    "if sayi<0:\n",
    "    print(\"Negatif Sayı\")\n",
    "else:\n",
    "    print(\"Sıfır veya Pozitif Sayı\")"
   ]
  },
  {
   "cell_type": "code",
   "execution_count": 12,
   "metadata": {},
   "outputs": [
    {
     "name": "stdout",
     "output_type": "stream",
     "text": [
      "Sayı:2\n",
      "Sıfır veya Pozitif Sayı\n"
     ]
    }
   ],
   "source": [
    "sayi=int(input(\"Sayı:\"))\n",
    "if sayi<0:\n",
    "    print(\"Negatif Sayı\")\n",
    "else:\n",
    "    print(\"Sıfır veya Pozitif Sayı\")"
   ]
  }
 ],
 "metadata": {
  "kernelspec": {
   "display_name": "Python 3",
   "language": "python",
   "name": "python3"
  },
  "language_info": {
   "codemirror_mode": {
    "name": "ipython",
    "version": 3
   },
   "file_extension": ".py",
   "mimetype": "text/x-python",
   "name": "python",
   "nbconvert_exporter": "python",
   "pygments_lexer": "ipython3",
   "version": "3.8.5"
  }
 },
 "nbformat": 4,
 "nbformat_minor": 4
}
