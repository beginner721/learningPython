{
 "cells": [
  {
   "cell_type": "markdown",
   "metadata": {},
   "source": [
    "Object oriented programming konusunda özel metodları nasıl kendimiz yazacağımızı öğreneceğiz. Özel metodlar daha önceden bahsettiğimiz gibi bizim çağırmadığımız ancak her classa ait standart metodlardır. Bunların çoğu biz tanımlamasak bile python tarafından varsayılan olarak tanımlanır. Bazılarını kullanmak için özel olarak tanımlamamız gerekir, init metodu buna örnektir.\n",
    "Örneklerle bakalım"
   ]
  },
  {
   "cell_type": "code",
   "execution_count": 1,
   "metadata": {},
   "outputs": [],
   "source": [
    "class Kitap():\n",
    "    pass"
   ]
  },
  {
   "cell_type": "code",
   "execution_count": 2,
   "metadata": {},
   "outputs": [],
   "source": [
    "kitap1= Kitap #burada init metodu çağrılıyor."
   ]
  },
  {
   "cell_type": "code",
   "execution_count": 4,
   "metadata": {},
   "outputs": [
    {
     "ename": "TypeError",
     "evalue": "object of type 'type' has no len()",
     "output_type": "error",
     "traceback": [
      "\u001b[1;31m---------------------------------------------------------------------------\u001b[0m",
      "\u001b[1;31mTypeError\u001b[0m                                 Traceback (most recent call last)",
      "\u001b[1;32m<ipython-input-4-a297721d66ad>\u001b[0m in \u001b[0;36m<module>\u001b[1;34m\u001b[0m\n\u001b[1;32m----> 1\u001b[1;33m \u001b[0mlen\u001b[0m\u001b[1;33m(\u001b[0m\u001b[0mkitap1\u001b[0m\u001b[1;33m)\u001b[0m \u001b[1;31m#len metodu çalıştırılacak ancak tanımlı değil, bunu özellikle tanımlamamız gerek...\u001b[0m\u001b[1;33m\u001b[0m\u001b[1;33m\u001b[0m\u001b[0m\n\u001b[0m",
      "\u001b[1;31mTypeError\u001b[0m: object of type 'type' has no len()"
     ]
    }
   ],
   "source": [
    "len(kitap1) #len metodu çalıştırılacak ancak tanımlı değil, bunu özellikle tanımlamamız gerek..."
   ]
  },
  {
   "cell_type": "code",
   "execution_count": 7,
   "metadata": {},
   "outputs": [
    {
     "name": "stdout",
     "output_type": "stream",
     "text": [
      "<class '__main__.Kitap'>\n"
     ]
    }
   ],
   "source": [
    "print(kitap1) #str metodu çağrılır\n"
   ]
  },
  {
   "cell_type": "code",
   "execution_count": 9,
   "metadata": {},
   "outputs": [],
   "source": [
    "del kitap1 #del anahtar kelimesi bir objeyi siler"
   ]
  },
  {
   "cell_type": "code",
   "execution_count": 10,
   "metadata": {},
   "outputs": [
    {
     "ename": "NameError",
     "evalue": "name 'kitap1' is not defined",
     "output_type": "error",
     "traceback": [
      "\u001b[1;31m---------------------------------------------------------------------------\u001b[0m",
      "\u001b[1;31mNameError\u001b[0m                                 Traceback (most recent call last)",
      "\u001b[1;32m<ipython-input-10-b7b40b90ad3c>\u001b[0m in \u001b[0;36m<module>\u001b[1;34m\u001b[0m\n\u001b[1;32m----> 1\u001b[1;33m \u001b[0mkitap1\u001b[0m \u001b[1;31m# artık yok silindi\u001b[0m\u001b[1;33m\u001b[0m\u001b[1;33m\u001b[0m\u001b[0m\n\u001b[0m",
      "\u001b[1;31mNameError\u001b[0m: name 'kitap1' is not defined"
     ]
    }
   ],
   "source": [
    "kitap1 # artık yok silindi"
   ]
  },
  {
   "cell_type": "markdown",
   "metadata": {},
   "source": [
    "peki metodları kendimiz nasıl tanımlarız bir bakalım..."
   ]
  },
  {
   "cell_type": "markdown",
   "metadata": {},
   "source": [
    "### init metodu"
   ]
  },
  {
   "cell_type": "code",
   "execution_count": 13,
   "metadata": {},
   "outputs": [],
   "source": [
    "class Kitap():\n",
    "    def __init__(self,isim,yazar,sayfa,tur):\n",
    "        print(\"Kitap objesi oluşturuluyor\")\n",
    "        self.isim= isim\n",
    "        self.yazar= yazar\n",
    "        self.sayfa= sayfa\n",
    "        self.tur=tur\n",
    "    def __str__(self):\n",
    "        #return kullanmalıyız...\n",
    "        return \"İsim: {}\\nYazar: {}\\nSayfa Sayısı: {}\\nKitap Türü: {} \".format(self.isim,self.yazar,self.sayfa,self.tur)"
   ]
  },
  {
   "cell_type": "code",
   "execution_count": 15,
   "metadata": {},
   "outputs": [
    {
     "name": "stdout",
     "output_type": "stream",
     "text": [
      "Kitap objesi oluşturuluyor\n"
     ]
    }
   ],
   "source": [
    "kitap1=Kitap(\"Dönüşüm\",\"Franz Kafka\",100,\"Hikaye\")"
   ]
  },
  {
   "cell_type": "code",
   "execution_count": 17,
   "metadata": {},
   "outputs": [
    {
     "name": "stdout",
     "output_type": "stream",
     "text": [
      "İsim: Dönüşüm\n",
      "Yazar: Franz Kafka\n",
      "Sayfa Sayısı: 100\n",
      "Kitap Türü: Hikaye \n"
     ]
    }
   ],
   "source": [
    "print(kitap1) #gördüğümüz gibi print ile tanımlanan __str__ kullanıldı..."
   ]
  },
  {
   "cell_type": "markdown",
   "metadata": {},
   "source": [
    "### len metodu\n",
    "len metodu biz tanımlamadığımız sürece tanımlanan bir metod değildir, o sebeple tanımlamamız gereklidir\n",
    "dir(kitap1)"
   ]
  },
  {
   "cell_type": "code",
   "execution_count": 26,
   "metadata": {},
   "outputs": [],
   "source": [
    "class Kitap():\n",
    "    def __init__(self,isim,yazar,sayfa,tur):\n",
    "        print(\"Kitap objesi oluşturuluyor\")\n",
    "        self.isim= isim\n",
    "        self.yazar= yazar\n",
    "        self.sayfa= sayfa\n",
    "        self.tur=tur\n",
    "    def __str__(self):\n",
    "        #return kullanmalıyız...\n",
    "        return \"İsim: {}\\nYazar: {}\\nSayfa Sayısı: {}\\nKitap Türü: {} \".format(self.isim,self.yazar,self.sayfa,self.tur)\n",
    "    def __len__(self): #mantıken bu objenin uzunluğu sayfa olacaktır ancak başka birşey de tanımlanabilir...\n",
    "        return self.sayfa"
   ]
  },
  {
   "cell_type": "code",
   "execution_count": 27,
   "metadata": {},
   "outputs": [
    {
     "name": "stdout",
     "output_type": "stream",
     "text": [
      "Kitap objesi oluşturuluyor\n"
     ]
    }
   ],
   "source": [
    "kitap1=Kitap(\"Dönüşüm\",\"Franz Kafka\",100,\"Hikaye\")"
   ]
  },
  {
   "cell_type": "code",
   "execution_count": 28,
   "metadata": {},
   "outputs": [
    {
     "data": {
      "text/plain": [
       "100"
      ]
     },
     "execution_count": 28,
     "metadata": {},
     "output_type": "execute_result"
    }
   ],
   "source": [
    "len(kitap1)"
   ]
  },
  {
   "cell_type": "markdown",
   "metadata": {},
   "source": [
    "### del metodu\n",
    "bu metod bir objeyi silerken kullanılan metoddur. bu metodu baştan tanımlayamayız, her türlü delete işlemi yapacaktır ancak ekstra özellik ekleyebiliriz..."
   ]
  },
  {
   "cell_type": "code",
   "execution_count": 29,
   "metadata": {},
   "outputs": [
    {
     "name": "stdout",
     "output_type": "stream",
     "text": [
      "Kitap objesi oluşturuluyor\n"
     ]
    }
   ],
   "source": [
    "kitap2= Kitap(\"İnferis\",\"Mahfi Eğilmez\",200,\"Polisiye\")"
   ]
  },
  {
   "cell_type": "code",
   "execution_count": 30,
   "metadata": {},
   "outputs": [],
   "source": [
    "del kitap2"
   ]
  },
  {
   "cell_type": "code",
   "execution_count": 31,
   "metadata": {},
   "outputs": [
    {
     "ename": "NameError",
     "evalue": "name 'kitap2' is not defined",
     "output_type": "error",
     "traceback": [
      "\u001b[1;31m---------------------------------------------------------------------------\u001b[0m",
      "\u001b[1;31mNameError\u001b[0m                                 Traceback (most recent call last)",
      "\u001b[1;32m<ipython-input-31-3274e7f34812>\u001b[0m in \u001b[0;36m<module>\u001b[1;34m\u001b[0m\n\u001b[1;32m----> 1\u001b[1;33m \u001b[0mkitap2\u001b[0m\u001b[1;33m\u001b[0m\u001b[1;33m\u001b[0m\u001b[0m\n\u001b[0m",
      "\u001b[1;31mNameError\u001b[0m: name 'kitap2' is not defined"
     ]
    }
   ],
   "source": [
    "kitap2 #silindi..."
   ]
  },
  {
   "cell_type": "code",
   "execution_count": 32,
   "metadata": {},
   "outputs": [],
   "source": [
    "class Kitap():\n",
    "    def __init__(self,isim,yazar,sayfa,tur):\n",
    "        print(\"Kitap objesi oluşturuluyor\")\n",
    "        self.isim= isim\n",
    "        self.yazar= yazar\n",
    "        self.sayfa= sayfa\n",
    "        self.tur=tur\n",
    "    def __str__(self):\n",
    "        #return kullanmalıyız...\n",
    "        return \"İsim: {}\\nYazar: {}\\nSayfa Sayısı: {}\\nKitap Türü: {} \".format(self.isim,self.yazar,self.sayfa,self.tur)\n",
    "    def __len__(self): #mantıken bu objenin uzunluğu sayfa olacaktır ancak başka birşey de tanımlanabilir...\n",
    "        return self.sayfa\n",
    "    def __del__(self):\n",
    "        print(\"Kitap objesi siliniyor...\")"
   ]
  },
  {
   "cell_type": "code",
   "execution_count": 33,
   "metadata": {},
   "outputs": [
    {
     "name": "stdout",
     "output_type": "stream",
     "text": [
      "Kitap objesi oluşturuluyor\n"
     ]
    }
   ],
   "source": [
    "kitap2= Kitap(\"İnferis\",\"Mahfi Eğilmez\",200,\"Polisiye\")"
   ]
  },
  {
   "cell_type": "code",
   "execution_count": 36,
   "metadata": {},
   "outputs": [
    {
     "ename": "NameError",
     "evalue": "name 'kitap2' is not defined",
     "output_type": "error",
     "traceback": [
      "\u001b[1;31m---------------------------------------------------------------------------\u001b[0m",
      "\u001b[1;31mNameError\u001b[0m                                 Traceback (most recent call last)",
      "\u001b[1;32m<ipython-input-36-573f03b7cf4d>\u001b[0m in \u001b[0;36m<module>\u001b[1;34m\u001b[0m\n\u001b[1;32m----> 1\u001b[1;33m \u001b[1;32mdel\u001b[0m \u001b[0mkitap2\u001b[0m \u001b[1;31m#şu şekilde olacaktır.\u001b[0m\u001b[1;33m\u001b[0m\u001b[1;33m\u001b[0m\u001b[0m\n\u001b[0m",
      "\u001b[1;31mNameError\u001b[0m: name 'kitap2' is not defined"
     ]
    }
   ],
   "source": [
    "del kitap2 #şu şekilde olacaktır."
   ]
  },
  {
   "cell_type": "markdown",
   "metadata": {},
   "source": [
    "bu konu bu kadar, özel metodlar için daha fazla bilgi için bu sayfayı kullanabiliriz\n",
    "https://www.diveinto.org/python3/special-method-names.html\n"
   ]
  },
  {
   "cell_type": "code",
   "execution_count": null,
   "metadata": {},
   "outputs": [],
   "source": []
  }
 ],
 "metadata": {
  "kernelspec": {
   "display_name": "Python 3",
   "language": "python",
   "name": "python3"
  },
  "language_info": {
   "codemirror_mode": {
    "name": "ipython",
    "version": 3
   },
   "file_extension": ".py",
   "mimetype": "text/x-python",
   "name": "python",
   "nbconvert_exporter": "python",
   "pygments_lexer": "ipython3",
   "version": "3.8.5"
  }
 },
 "nbformat": 4,
 "nbformat_minor": 4
}
