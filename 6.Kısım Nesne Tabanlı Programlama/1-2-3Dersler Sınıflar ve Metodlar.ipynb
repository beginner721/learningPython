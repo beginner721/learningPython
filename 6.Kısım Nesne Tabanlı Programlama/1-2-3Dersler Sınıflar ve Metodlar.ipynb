{
 "cells": [
  {
   "cell_type": "markdown",
   "metadata": {},
   "source": [
    "### Nesne Tabanlı Programlama Mantığı\n",
    "İngilizce ismiyle Object Oriented Progamming olarak bilinir. En basit anlamıyla gerçek hayatı programlamaya uyarlamak olarak düşünülebilir, örnek olarak öğrenci otomasyon sistemi yazmak istiyoruz. Bunun için öğretmenleri kursları birer nesne olarak oluşturmamız gerekiyor. Böyle bir sistemi programlamak için her bir nesnenin yapısını tanımlayıp daha sonra bu yapılardan nesneler üretmemiz gerekiyor. Object oriented programming bu şekildedir.\n",
    "Obje veya nesne nedir bakalım"
   ]
  },
  {
   "cell_type": "markdown",
   "metadata": {},
   "source": [
    "#### Obje//Nesne Nedir ?\n",
    "Etrafınıza bakarsanız aslında herşey bir objedir. Örnek olarak bir kumanda düşünelim, kumanda içerisinde farklı özellikler(attribute) ve fonksiyonlar(metod) bulunuyor. Kumanda markası ve tuşları ATTRİBUTE(özellikleri) sayılabilir. Tuşlara basınca kapanması veya açılması ise bu kumandanın metodlarıdır.\n",
    "Buna benzer pythonda bulunan herşey bir objedir. Örnek olarak listeler obje sayılır, kendi özellikleri/metodları vardır.\n",
    "\n",
    "liste append ile listeye veri ekliyoruz...\n",
    "veya dictionary, tuple bunlar da birer objedir."
   ]
  },
  {
   "cell_type": "markdown",
   "metadata": {},
   "source": [
    "## OBJECT ORİENTED PROGRAMMING - CLASS\n",
    "Bu konuda artık kendi veri tiplerimizi ve objelerimizi üretmeye başlıyoruz.\n",
    "Kendi veritiplerimizi ve bu veri tiplerinden objeler üretebilmek için öncelikle objeleri üreteceğimiz yapıyı tanımlamalıyız.\n",
    "Bu tasarladığımız yapıya class yani sınıf diyoruz.\n",
    "\n",
    "#### Class Anahtar Kelimesi\n",
    "Sınıflar veya Classlar objeleri oluştururken objelerin özelliklerini ve metodlarını tanımladığımız bir yapıdır ve biz her bir objeyi bu yapıya göre üretiriz.\n",
    "Bir örnekle başlayalım"
   ]
  },
  {
   "cell_type": "code",
   "execution_count": 2,
   "metadata": {},
   "outputs": [],
   "source": [
    "#Araba veri tipi oluşturalım\n",
    "\n",
    "class Araba():\n",
    "    model=\"Reno Megan\" #classın özellikleri\n",
    "    renk=\"Gümüş\"\n",
    "    beygir_gucu=110\n",
    "    silindir=4"
   ]
  },
  {
   "cell_type": "markdown",
   "metadata": {},
   "source": [
    "Sınıfı tanımladık, peki bu sınıftan nasıl obje oluşturacağız"
   ]
  },
  {
   "cell_type": "code",
   "execution_count": 3,
   "metadata": {},
   "outputs": [],
   "source": [
    "#obje_ismi = Sınıf_ismi(parametreler(opsiyonel))"
   ]
  },
  {
   "cell_type": "code",
   "execution_count": 4,
   "metadata": {},
   "outputs": [],
   "source": [
    "araba1=Araba() # ARABA VERİ TİPİNDEN, ARABA1 İSİMLİ BİR OBJE OLUŞTURDUK..."
   ]
  },
  {
   "cell_type": "code",
   "execution_count": 5,
   "metadata": {},
   "outputs": [
    {
     "data": {
      "text/plain": [
       "<__main__.Araba at 0x22fa9516880>"
      ]
     },
     "execution_count": 5,
     "metadata": {},
     "output_type": "execute_result"
    }
   ],
   "source": [
    "araba1 #objemizin veri tipi Araba"
   ]
  },
  {
   "cell_type": "code",
   "execution_count": 6,
   "metadata": {},
   "outputs": [
    {
     "data": {
      "text/plain": [
       "__main__.Araba"
      ]
     },
     "execution_count": 6,
     "metadata": {},
     "output_type": "execute_result"
    }
   ],
   "source": [
    "type(araba1)"
   ]
  },
  {
   "cell_type": "markdown",
   "metadata": {},
   "source": [
    "araba1 objesi artık sınıfta tanımladığımız bütün özelliklere (attributes) sahip oldu. Sınıf ve obje üretmek bu şekildedir.\n",
    "Peki bu araba objesinin özelliklerini nasıl göreceğiz.\n",
    "\n",
    "obje_ismi.özellik.ismi\n",
    "yani örnek olarak\n",
    "araba1.renk\n"
   ]
  },
  {
   "cell_type": "code",
   "execution_count": 7,
   "metadata": {},
   "outputs": [
    {
     "data": {
      "text/plain": [
       "110"
      ]
     },
     "execution_count": 7,
     "metadata": {},
     "output_type": "execute_result"
    }
   ],
   "source": [
    "araba1.beygir_gucu"
   ]
  },
  {
   "cell_type": "code",
   "execution_count": 8,
   "metadata": {},
   "outputs": [
    {
     "data": {
      "text/plain": [
       "'Reno Megan'"
      ]
     },
     "execution_count": 8,
     "metadata": {},
     "output_type": "execute_result"
    }
   ],
   "source": [
    "araba1.model"
   ]
  },
  {
   "cell_type": "code",
   "execution_count": 9,
   "metadata": {},
   "outputs": [],
   "source": [
    "#farklı bir araba objesi oluşturalım\n",
    "araba2=Araba()"
   ]
  },
  {
   "cell_type": "code",
   "execution_count": 10,
   "metadata": {},
   "outputs": [
    {
     "data": {
      "text/plain": [
       "110"
      ]
     },
     "execution_count": 10,
     "metadata": {},
     "output_type": "execute_result"
    }
   ],
   "source": [
    "araba2.beygir_gucu"
   ]
  },
  {
   "cell_type": "code",
   "execution_count": 11,
   "metadata": {},
   "outputs": [
    {
     "data": {
      "text/plain": [
       "'Reno Megan'"
      ]
     },
     "execution_count": 11,
     "metadata": {},
     "output_type": "execute_result"
    }
   ],
   "source": [
    "araba2.model"
   ]
  },
  {
   "cell_type": "markdown",
   "metadata": {},
   "source": [
    "Gördüğümüz gibi objelerimiz farklı olsa da değerleri aynı çünkü classta varsayılan olarak tanımladık.\n",
    "Varsayılan yapmadan direkt olarak objelerimizi yaratabileceğimiz kısıma geçelim.\n",
    "Yeni birer araba1 ve araba2 oluşturalım\n",
    "Her objeyi farklı değerlerle oluşturabilmek için bu objelerin değerlerini göndermemiz gerekiyor.\n",
    "Bunun için ise __init__() metodu kullanacağız. peki bu metod nedir"
   ]
  },
  {
   "cell_type": "code",
   "execution_count": 12,
   "metadata": {},
   "outputs": [
    {
     "data": {
      "text/plain": [
       "['__class__',\n",
       " '__delattr__',\n",
       " '__dict__',\n",
       " '__dir__',\n",
       " '__doc__',\n",
       " '__eq__',\n",
       " '__format__',\n",
       " '__ge__',\n",
       " '__getattribute__',\n",
       " '__gt__',\n",
       " '__hash__',\n",
       " '__init__',\n",
       " '__init_subclass__',\n",
       " '__le__',\n",
       " '__lt__',\n",
       " '__module__',\n",
       " '__ne__',\n",
       " '__new__',\n",
       " '__reduce__',\n",
       " '__reduce_ex__',\n",
       " '__repr__',\n",
       " '__setattr__',\n",
       " '__sizeof__',\n",
       " '__str__',\n",
       " '__subclasshook__',\n",
       " '__weakref__',\n",
       " 'beygir_gucu',\n",
       " 'model',\n",
       " 'renk',\n",
       " 'silindir']"
      ]
     },
     "execution_count": 12,
     "metadata": {},
     "output_type": "execute_result"
    }
   ],
   "source": [
    "#öncelikle araba1 objemizde neler var bakalım\n",
    "dir(araba1)"
   ]
  },
  {
   "cell_type": "markdown",
   "metadata": {},
   "source": [
    "Burada pek çok metod ve özellik mevcut araba1 e ait ancak biz bunların çoğunu tanımlamadık. Bunlar python tarafından tanımlanan metodlardır, eğer bunları tanımlamazsanız otomatik olarak tanımlanıp geliyor\n",
    "Burada aynı zamanda init metdou da mevcut.\n",
    " init metodu asında constructor(yapıcı) fonksiyon olarak tanımlanır. Bu metod objeler oluşturulurken otomatik olarak çağrılan ilk fonksiyondur. Bu metodu özel olarak tanımlayarak objelerimiz farklı değerlere ulaştırabiliriz.\n",
    " örneklerle bakalım"
   ]
  },
  {
   "cell_type": "code",
   "execution_count": 13,
   "metadata": {},
   "outputs": [],
   "source": [
    "class Araba():\n",
    "    #şimdilik özellik belirtmeyelim\n",
    "    def __init__(self):\n",
    "        print(\"init fonksiyonu çağrıldı\")"
   ]
  },
  {
   "cell_type": "code",
   "execution_count": 14,
   "metadata": {},
   "outputs": [
    {
     "name": "stdout",
     "output_type": "stream",
     "text": [
      "init fonksiyonu çağrıldı\n"
     ]
    }
   ],
   "source": [
    "araba1= Araba()"
   ]
  },
  {
   "cell_type": "markdown",
   "metadata": {},
   "source": [
    "araba1 objesi oluşturulurken init metodu çağrıldı yukarıda gördüğümüz gibi.\n",
    "Peki burada self ne anlama geliyor, self obje oluşturulurken objeyi gösteren bir referanstır.\n",
    "metodların en başında bulunması gereken bir parametredir. objeler oluşturulurken python bu referansı metodlara otomatik olarak kendisi gönderir.\n",
    "özel olarak self referansı göndermemize gerek yoktur\n",
    "init ve selfi iyice anlayalım örneklerle."
   ]
  },
  {
   "cell_type": "code",
   "execution_count": 15,
   "metadata": {},
   "outputs": [],
   "source": [
    "class Araba():\n",
    "    def __init__ (self, model,renk,beygir,silindir): #parametrelerin değerlerini objeleri oluştururken göndereceğiz.\n",
    "        \n",
    "        #buralarda --self.özellik_ismi = parametre değeri -- şeklinde objelerimize model, renk vs. özellik değeri atıyoruz\n",
    "        self.model= model \n",
    "        self.renk= renk\n",
    "        self.beygir = beygir\n",
    "        self.silindir= silindir"
   ]
  },
  {
   "cell_type": "code",
   "execution_count": 16,
   "metadata": {},
   "outputs": [],
   "source": [
    "#şimdi araba1 objesi oluşturalım\n",
    "\n",
    "araba1= Araba(\"Peugeot\",\"Beyaz\",100,4)"
   ]
  },
  {
   "cell_type": "code",
   "execution_count": 18,
   "metadata": {},
   "outputs": [
    {
     "data": {
      "text/plain": [
       "'Peugeot'"
      ]
     },
     "execution_count": 18,
     "metadata": {},
     "output_type": "execute_result"
    }
   ],
   "source": [
    "araba1.model #başarıyla objemizi/nesnemizi özelliklerle beraber tanımladık"
   ]
  },
  {
   "cell_type": "code",
   "execution_count": 20,
   "metadata": {},
   "outputs": [],
   "source": [
    "arabaX= Araba(\"TeslaX\",\"Siyah\",400,4)"
   ]
  },
  {
   "cell_type": "code",
   "execution_count": 21,
   "metadata": {},
   "outputs": [
    {
     "data": {
      "text/plain": [
       "400"
      ]
     },
     "execution_count": 21,
     "metadata": {},
     "output_type": "execute_result"
    }
   ],
   "source": [
    "arabaX.beygir"
   ]
  },
  {
   "cell_type": "markdown",
   "metadata": {},
   "source": [
    "İnit metoduna varsayılan değerler de yazılabilir, böylece verilmeyen değerler için bir text vs. yazılabilir."
   ]
  },
  {
   "cell_type": "code",
   "execution_count": 24,
   "metadata": {},
   "outputs": [],
   "source": [
    "class Araba():\n",
    "    def __init__(self, model=\"Bilgi yok\", renk=\"Bilgi yok\", beygir=\"Bilgi yok\",silindir=\"Bilgi yok\"):\n",
    "        self.model = model\n",
    "        self.renk = renk\n",
    "        self.beygir= beygir\n",
    "        self.silindir= silindir"
   ]
  },
  {
   "cell_type": "code",
   "execution_count": 29,
   "metadata": {},
   "outputs": [],
   "source": [
    "araba1=Araba(\"tesla\")"
   ]
  },
  {
   "cell_type": "code",
   "execution_count": 30,
   "metadata": {},
   "outputs": [
    {
     "data": {
      "text/plain": [
       "'tesla'"
      ]
     },
     "execution_count": 30,
     "metadata": {},
     "output_type": "execute_result"
    }
   ],
   "source": [
    "araba1.model"
   ]
  },
  {
   "cell_type": "code",
   "execution_count": 31,
   "metadata": {},
   "outputs": [
    {
     "data": {
      "text/plain": [
       "'Bilgi yok'"
      ]
     },
     "execution_count": 31,
     "metadata": {},
     "output_type": "execute_result"
    }
   ],
   "source": [
    "araba1.beygir"
   ]
  },
  {
   "cell_type": "markdown",
   "metadata": {},
   "source": [
    "bu şekilde init metoduyla objeleri farklı değerlerle oluşturabiliyoruz.Şimdi de objelere kendi metodlarımızı yazacağız..."
   ]
  },
  {
   "cell_type": "markdown",
   "metadata": {},
   "source": [
    "## Nesne Tabanlı Programlama - Metodlar"
   ]
  },
  {
   "cell_type": "code",
   "execution_count": 32,
   "metadata": {},
   "outputs": [],
   "source": [
    "class Gorevli():\n",
    "    def __init__(self,isim,soyisim,numara,maas):\n",
    "        #görevli objesinin özelliklerini/attribute tanımladık\n",
    "        self.isim=isim\n",
    "        self.soyisim=soyisim\n",
    "        self.numara=numara\n",
    "        self.maas=maas"
   ]
  },
  {
   "cell_type": "code",
   "execution_count": 33,
   "metadata": {},
   "outputs": [],
   "source": [
    "gorevli1= Gorevli(\"Ahmet\",\"Oktan\",551,3000)"
   ]
  },
  {
   "cell_type": "code",
   "execution_count": 34,
   "metadata": {},
   "outputs": [],
   "source": [
    "gorevli2= Gorevli(\"Ali\", \"Demir\",553,3250)"
   ]
  },
  {
   "cell_type": "code",
   "execution_count": 35,
   "metadata": {},
   "outputs": [
    {
     "data": {
      "text/plain": [
       "'Ahmet'"
      ]
     },
     "execution_count": 35,
     "metadata": {},
     "output_type": "execute_result"
    }
   ],
   "source": [
    "gorevli1.isim"
   ]
  },
  {
   "cell_type": "code",
   "execution_count": 36,
   "metadata": {},
   "outputs": [
    {
     "data": {
      "text/plain": [
       "'Ali'"
      ]
     },
     "execution_count": 36,
     "metadata": {},
     "output_type": "execute_result"
    }
   ],
   "source": [
    "gorevli2.isim"
   ]
  },
  {
   "cell_type": "markdown",
   "metadata": {},
   "source": [
    "Bunların nasıl yapıldığını az önce öğrendik, peki bu class a metodları nasıl tanımlarız?\n",
    "Aynı init metodu tanımlar gibi bir classa istediğimiz miktarda metod tanımlayabiliriz. \n",
    "bilgileri göstermek adına bir metod tanımlayalım"
   ]
  },
  {
   "cell_type": "code",
   "execution_count": 37,
   "metadata": {},
   "outputs": [],
   "source": [
    "class Gorevli():\n",
    "    def __init__(self,isim,soyisim,numara,maas):\n",
    "        #görevli objesinin özelliklerini/attribute tanımladık\n",
    "        self.isim=isim\n",
    "        self.soyisim=soyisim\n",
    "        self.numara=numara\n",
    "        self.maas=maas\n",
    "    def bilgilerigoster(self):\n",
    "        print(\"\"\"      \n",
    "        **Görevlilerin Bilgileri**\n",
    "        İsim: {}\n",
    "        Soyisim: {}\n",
    "        Numara: {}\n",
    "        Maaş: {} TL\n",
    "        \"\"\".format(self.isim,self.soyisim,self.numara,self.maas))"
   ]
  },
  {
   "cell_type": "code",
   "execution_count": 38,
   "metadata": {},
   "outputs": [],
   "source": [
    "gorevli1= Gorevli(\"Ahmet\",\"Oktan\",551,3000)"
   ]
  },
  {
   "cell_type": "code",
   "execution_count": 39,
   "metadata": {},
   "outputs": [
    {
     "data": {
      "text/plain": [
       "'Ahmet'"
      ]
     },
     "execution_count": 39,
     "metadata": {},
     "output_type": "execute_result"
    }
   ],
   "source": [
    "gorevli1.isim"
   ]
  },
  {
   "cell_type": "code",
   "execution_count": 44,
   "metadata": {},
   "outputs": [
    {
     "name": "stdout",
     "output_type": "stream",
     "text": [
      "      \n",
      "        **Görevlilerin Bilgileri**\n",
      "        İsim: Ahmet\n",
      "        Soyisim: Oktan\n",
      "        Numara: 551\n",
      "        Maaş: 3000 TL\n",
      "        \n"
     ]
    }
   ],
   "source": [
    "gorevli1.bilgilerigoster()"
   ]
  },
  {
   "cell_type": "markdown",
   "metadata": {},
   "source": [
    "Metod yazarken tek dikkat edilmesi gereken nokta her metodun birinci parametresi mutlaka self referansı olmalıdır. Ayrıca objelerin özelliklerine de mutlaka self referansı ile ulaşmalıyız."
   ]
  },
  {
   "cell_type": "code",
   "execution_count": 67,
   "metadata": {},
   "outputs": [],
   "source": [
    "class Gorevli():\n",
    "\n",
    "    def __init__(self,isim,soyisim,numara,maas):\n",
    "        #görevli objesinin özelliklerini/attribute tanımladık\n",
    "        self.isim=isim\n",
    "        self.soyisim=soyisim\n",
    "        self.numara=numara\n",
    "        self.maas=maas\n",
    "    def bilgilerigoster(self):\n",
    "        print(\"\"\"      \n",
    "        **Görevlilerin Bilgileri**\n",
    "        İsim: {}\n",
    "        Soyisim: {}\n",
    "        Numara: {}\n",
    "        Maaş: {} TL\n",
    "        \"\"\".format(self.isim,self.soyisim,self.numara,self.maas))\n",
    "    def maas_artir(self,zam=0):\n",
    "        zam=int(input(\"Zam Tutarı: \"))\n",
    "        self.maas+=zam\n",
    "    "
   ]
  },
  {
   "cell_type": "code",
   "execution_count": 68,
   "metadata": {},
   "outputs": [],
   "source": [
    "gorevli1= Gorevli(\"Ahmet\",\"Oktan\",551,3000)"
   ]
  },
  {
   "cell_type": "code",
   "execution_count": 69,
   "metadata": {},
   "outputs": [
    {
     "name": "stdout",
     "output_type": "stream",
     "text": [
      "      \n",
      "        **Görevlilerin Bilgileri**\n",
      "        İsim: Ahmet\n",
      "        Soyisim: Oktan\n",
      "        Numara: 551\n",
      "        Maaş: 3000 TL\n",
      "        \n"
     ]
    }
   ],
   "source": [
    "gorevli1.bilgilerigoster()"
   ]
  },
  {
   "cell_type": "code",
   "execution_count": 70,
   "metadata": {},
   "outputs": [
    {
     "name": "stdout",
     "output_type": "stream",
     "text": [
      "Zam Tutarı: 500\n"
     ]
    }
   ],
   "source": [
    "gorevli1.maas_artir()"
   ]
  },
  {
   "cell_type": "code",
   "execution_count": 71,
   "metadata": {},
   "outputs": [
    {
     "name": "stdout",
     "output_type": "stream",
     "text": [
      "      \n",
      "        **Görevlilerin Bilgileri**\n",
      "        İsim: Ahmet\n",
      "        Soyisim: Oktan\n",
      "        Numara: 551\n",
      "        Maaş: 3500 TL\n",
      "        \n"
     ]
    }
   ],
   "source": [
    "gorevli1.bilgilerigoster()"
   ]
  },
  {
   "cell_type": "code",
   "execution_count": 72,
   "metadata": {},
   "outputs": [
    {
     "name": "stdout",
     "output_type": "stream",
     "text": [
      "Zam Tutarı: 250\n"
     ]
    }
   ],
   "source": [
    "gorevli1.maas_artir()"
   ]
  },
  {
   "cell_type": "code",
   "execution_count": 74,
   "metadata": {},
   "outputs": [
    {
     "name": "stdout",
     "output_type": "stream",
     "text": [
      "      \n",
      "        **Görevlilerin Bilgileri**\n",
      "        İsim: Ahmet\n",
      "        Soyisim: Oktan\n",
      "        Numara: 551\n",
      "        Maaş: 3750 TL\n",
      "        \n"
     ]
    }
   ],
   "source": [
    "gorevli1.bilgilerigoster()"
   ]
  },
  {
   "cell_type": "markdown",
   "metadata": {},
   "source": [
    "Classlar / sınıflar ve metodlar bu kadar.\n",
    "Bir sonraki derste inheritance=kalıtım mantığını öğreneceğiz..."
   ]
  }
 ],
 "metadata": {
  "kernelspec": {
   "display_name": "Python 3",
   "language": "python",
   "name": "python3"
  },
  "language_info": {
   "codemirror_mode": {
    "name": "ipython",
    "version": 3
   },
   "file_extension": ".py",
   "mimetype": "text/x-python",
   "name": "python",
   "nbconvert_exporter": "python",
   "pygments_lexer": "ipython3",
   "version": "3.8.5"
  }
 },
 "nbformat": 4,
 "nbformat_minor": 4
}
