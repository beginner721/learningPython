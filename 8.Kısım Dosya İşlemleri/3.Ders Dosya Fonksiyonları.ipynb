{
 "cells": [
  {
   "cell_type": "markdown",
   "metadata": {},
   "source": [
    "### Dosyaları Otomatik Kapatma\n",
    "Dosyalarda ypaılan işlemler bitince close ile kapatmamız gerek ancak ara sıra gözden kaçabilecek bu hatayı ortadan kaldıracak bir fonksiyon mevcut. Otomatik olarak blok bitince dosyamızı kapatıyor, bu fonksiyona bir göz atalım..."
   ]
  },
  {
   "cell_type": "code",
   "execution_count": 1,
   "metadata": {},
   "outputs": [
    {
     "name": "stdout",
     "output_type": "stream",
     "text": [
      "Memduh Baran Kurtboğan\n",
      "\n",
      "Orhan Kurtboğan\n",
      "\n",
      "Rezan Kurtboğan\n",
      "\n",
      "Nevin Kurtbogan\n",
      "\n",
      "Rojda Kurtboğan\n"
     ]
    }
   ],
   "source": [
    "with open(\"bilgiler.txt\",\"r\",encoding=\"utf-8\") as file:\n",
    "    for i in file:\n",
    "        print(i)"
   ]
  },
  {
   "cell_type": "code",
   "execution_count": 2,
   "metadata": {},
   "outputs": [],
   "source": [
    "#yukarıdaki blok sona erince otomatik olarak dosyamız kapandı ..."
   ]
  },
  {
   "cell_type": "markdown",
   "metadata": {},
   "source": [
    "### Dosyaları İleri Geri Sarmak\n",
    "Dosyaları read ile okurken dosyaların en başından başlar ve imleç dosyanın en sonuna kadar gider. Ancak biz imlecimizi yani file değişkenimizi  dosyanın herhangi bir yerinden başlatmak veya farklı bir konuma götürmek ve oradan read yapmak isteyebiliriz. Bunun için seek()fonksiyonunu kullanacağız. Ancak seek kullanmadan önce dosya imlecimizin hangi byte'da olduğunu belirten tell fonksiyonunu da bununla birlikte kullanacağız. Hemen bakalım ..."
   ]
  },
  {
   "cell_type": "code",
   "execution_count": 4,
   "metadata": {},
   "outputs": [
    {
     "name": "stdout",
     "output_type": "stream",
     "text": [
      "0\n"
     ]
    }
   ],
   "source": [
    "with open (\"bilgiler.txt\",\"r\",encoding=\"utf-8\") as file:\n",
    "    print(file.tell()) #hiç işlem yapılmadığı için tell fonksiyonu sıfırıncı byte'da yani dosyanın en başında olduğumuzu söyledi\n",
    "    #bu imleci örnek olarak 20.byte a götürmek istersek işte o zaman seek fonksiyonunu kullanacağız."
   ]
  },
  {
   "cell_type": "code",
   "execution_count": 5,
   "metadata": {},
   "outputs": [
    {
     "name": "stdout",
     "output_type": "stream",
     "text": [
      "20\n"
     ]
    }
   ],
   "source": [
    "with open(\"bilgiler.txt\",\"r\",encoding=\"utf-8\") as file:\n",
    "    file.seek(20)\n",
    "    print(file.tell())"
   ]
  },
  {
   "cell_type": "markdown",
   "metadata": {},
   "source": [
    "Belirli bir noktara belirli miktarda read nasıl yapılır? Read fonksiyonuna parantez içinde bir değer verilirse o kadar okuma yapacaktır...\n"
   ]
  },
  {
   "cell_type": "code",
   "execution_count": 6,
   "metadata": {},
   "outputs": [
    {
     "name": "stdout",
     "output_type": "stream",
     "text": [
      "h Baran Ku\n",
      "15\n"
     ]
    }
   ],
   "source": [
    "with open(\"bilgiler.txt\",\"r\",encoding=\"utf-8\") as file:\n",
    "    file.seek(5) #5.byte a gidiyoruz\n",
    "    oku=file.read(10) # 10 birim okuma yapıyoruz\n",
    "    print(oku)\n",
    "    print(file.tell())\n",
    "    "
   ]
  },
  {
   "cell_type": "code",
   "execution_count": 8,
   "metadata": {},
   "outputs": [
    {
     "name": "stdout",
     "output_type": "stream",
     "text": [
      "h Baran Ku\n",
      "Memduh\n"
     ]
    }
   ],
   "source": [
    "with open(\"bilgiler.txt\",\"r\",encoding=\"utf-8\") as file:\n",
    "    file.seek(5) #5.byte a gidiyoruz\n",
    "    oku=file.read(10) # 10 birim okuma yapıyoruz\n",
    "    print(oku)\n",
    "    file.seek(0) #tekrar en başa sardık\n",
    "    oku2=file.read(6) #en baştan 6 birim okuduk\n",
    "    print(oku2)"
   ]
  },
  {
   "cell_type": "code",
   "execution_count": null,
   "metadata": {},
   "outputs": [],
   "source": []
  }
 ],
 "metadata": {
  "kernelspec": {
   "display_name": "Python 3",
   "language": "python",
   "name": "python3"
  },
  "language_info": {
   "codemirror_mode": {
    "name": "ipython",
    "version": 3
   },
   "file_extension": ".py",
   "mimetype": "text/x-python",
   "name": "python",
   "nbconvert_exporter": "python",
   "pygments_lexer": "ipython3",
   "version": "3.8.5"
  }
 },
 "nbformat": 4,
 "nbformat_minor": 4
}
