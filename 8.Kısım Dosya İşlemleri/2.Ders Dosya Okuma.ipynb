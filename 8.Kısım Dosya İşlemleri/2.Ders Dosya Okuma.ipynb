{
 "cells": [
  {
   "cell_type": "code",
   "execution_count": 9,
   "metadata": {},
   "outputs": [],
   "source": [
    "#r=read file mode \n",
    "file=open(\"bilgiler.txt\",\"r\")"
   ]
  },
  {
   "cell_type": "markdown",
   "metadata": {},
   "source": [
    "Dosyaları okumak için R kipiyle açarız, eğer dosya yoktsa FileNotFoundError hatasıyla karşılaşırız."
   ]
  },
  {
   "cell_type": "code",
   "execution_count": 10,
   "metadata": {},
   "outputs": [],
   "source": [
    "file.close()"
   ]
  },
  {
   "cell_type": "code",
   "execution_count": 11,
   "metadata": {},
   "outputs": [
    {
     "ename": "FileNotFoundError",
     "evalue": "[Errno 2] No such file or directory: 'bilgiler2.txt'",
     "output_type": "error",
     "traceback": [
      "\u001b[1;31m---------------------------------------------------------------------------\u001b[0m",
      "\u001b[1;31mFileNotFoundError\u001b[0m                         Traceback (most recent call last)",
      "\u001b[1;32m<ipython-input-11-45ba965f9767>\u001b[0m in \u001b[0;36m<module>\u001b[1;34m\u001b[0m\n\u001b[1;32m----> 1\u001b[1;33m \u001b[0mfile\u001b[0m\u001b[1;33m=\u001b[0m\u001b[0mopen\u001b[0m\u001b[1;33m(\u001b[0m\u001b[1;34m\"bilgiler2.txt\"\u001b[0m\u001b[1;33m,\u001b[0m\u001b[1;34m\"r\"\u001b[0m\u001b[1;33m)\u001b[0m\u001b[1;33m\u001b[0m\u001b[1;33m\u001b[0m\u001b[0m\n\u001b[0m",
      "\u001b[1;31mFileNotFoundError\u001b[0m: [Errno 2] No such file or directory: 'bilgiler2.txt'"
     ]
    }
   ],
   "source": [
    "file=open(\"bilgiler2.txt\",\"r\")"
   ]
  },
  {
   "cell_type": "code",
   "execution_count": 12,
   "metadata": {},
   "outputs": [
    {
     "name": "stdout",
     "output_type": "stream",
     "text": [
      "Dosya bulunamadı.\n"
     ]
    }
   ],
   "source": [
    "try:\n",
    "    file=open(\"bilgiler2.txt\",\"r\")\n",
    "except FileNotFoundError:\n",
    "    print(\"Dosya bulunamadı.\")"
   ]
  },
  {
   "cell_type": "markdown",
   "metadata": {},
   "source": [
    "#### For döngüsü ile okuma\n",
    "Her satır tek tek okunur..."
   ]
  },
  {
   "cell_type": "code",
   "execution_count": 16,
   "metadata": {},
   "outputs": [],
   "source": [
    "#for döngüsü ile dosyaları okuyabiliriz\n",
    "file=open(\"bilgiler.txt\",\"r\",encoding=\"utf-8\")"
   ]
  },
  {
   "cell_type": "code",
   "execution_count": 17,
   "metadata": {},
   "outputs": [
    {
     "name": "stdout",
     "output_type": "stream",
     "text": [
      "Memduh Baran Kurtboğan\n",
      "Orhan Kurtboğan\n",
      "Rezan Kurtboğan\n",
      "Nevin Kurtbogan\n",
      "Rojda Kurtboğan"
     ]
    }
   ],
   "source": [
    "for i in file:\n",
    "    print(i,end=\"\") #end koyulmazsa python otomatik \\n kullanır iki boşluk varmış gibi olur\n",
    "file.close()"
   ]
  },
  {
   "cell_type": "markdown",
   "metadata": {},
   "source": [
    "#### Read() fonksiyonu\n",
    "eğer içinde hiçbir değer yoksa bütün dosyaları okuyacaktır. bir sonraki derste detaylı göreceğiz ...."
   ]
  },
  {
   "cell_type": "code",
   "execution_count": 19,
   "metadata": {},
   "outputs": [
    {
     "name": "stdout",
     "output_type": "stream",
     "text": [
      "Dosyanın İçeriği: \n",
      "Memduh Baran Kurtboğan\n",
      "Orhan Kurtboğan\n",
      "Rezan Kurtboğan\n",
      "Nevin Kurtbogan\n",
      "Rojda Kurtboğan\n"
     ]
    }
   ],
   "source": [
    "#read fonksiyonu:\n",
    "file=open(\"bilgiler.txt\",\"r\",encoding=\"utf-8\")\n",
    "icerik=file.read() #file read bir string dönecek ve bu stringi biz içerik değişkenine atamış olduk\n",
    "print(\"Dosyanın İçeriği: \")\n",
    "print(icerik)\n",
    "file.close()"
   ]
  },
  {
   "cell_type": "code",
   "execution_count": 21,
   "metadata": {},
   "outputs": [
    {
     "name": "stdout",
     "output_type": "stream",
     "text": [
      "Dosyanın İçeriği: \n",
      "Memduh Baran Kurtboğan\n",
      "Orhan Kurtboğan\n",
      "Rezan Kurtboğan\n",
      "Nevin Kurtbogan\n",
      "Rojda Kurtboğan\n",
      "Dosyanın İçeriği 2: \n",
      "\n"
     ]
    }
   ],
   "source": [
    "#read fonksiyonu:\n",
    "file=open(\"bilgiler.txt\",\"r\",encoding=\"utf-8\")\n",
    "icerik=file.read() #file read bir string dönecek ve bu stringi biz içerik değişkenine atamış olduk\n",
    "print(\"Dosyanın İçeriği: \")\n",
    "print(icerik)\n",
    "\n",
    "print(\"Dosyanın İçeriği 2: \") #yukarıda file imlecimiz dosya sonuna geldi o sebeple burada tekrar okuma yapmıyor...\n",
    "\n",
    "icerik2=file.read()\n",
    "print(icerik2)"
   ]
  },
  {
   "cell_type": "markdown",
   "metadata": {},
   "source": [
    "#### Readline() fonksiyonu \n",
    "bu fonksiyon her kullanıldığında bir satır okuma işlemi yapar ve her çalıştırılmada bir sonraki satırdan devam eder..."
   ]
  },
  {
   "cell_type": "code",
   "execution_count": 22,
   "metadata": {},
   "outputs": [
    {
     "name": "stdout",
     "output_type": "stream",
     "text": [
      "Memduh Baran Kurtboğan\n",
      "\n"
     ]
    }
   ],
   "source": [
    "#readline fonksiyonu: her çalıştırıldığında dosyanın bir satırını okuyor, \n",
    "#her çalıştırmada bir satır atlayarak işlemine devam ediyor\n",
    "file=open(\"bilgiler.txt\",\"r\",encoding=\"utf-8\")\n",
    "print(file.readline())\n",
    "file.close()"
   ]
  },
  {
   "cell_type": "code",
   "execution_count": 26,
   "metadata": {},
   "outputs": [
    {
     "name": "stdout",
     "output_type": "stream",
     "text": [
      "Memduh Baran Kurtboğan\n",
      "\n",
      "Orhan Kurtboğan\n",
      "\n",
      "Rezan Kurtboğan\n",
      "\n",
      "Nevin Kurtbogan\n",
      "\n",
      "Rojda Kurtboğan\n",
      "boş\n",
      "\n",
      "boş\n"
     ]
    }
   ],
   "source": [
    "file=open(\"bilgiler.txt\",\"r\",encoding=\"utf-8\")\n",
    "print(file.readline()) #birinci satır\n",
    "print(file.readline()) #ikinci satır\n",
    "print(file.readline())\n",
    "print(file.readline())\n",
    "print(file.readline())\n",
    "print(\"boş\")\n",
    "print(file.readline()) #veri yoksa otomatik olarak boş satır verir\n",
    "print(\"boş\")\n",
    "file.close()\n"
   ]
  },
  {
   "cell_type": "markdown",
   "metadata": {},
   "source": [
    "#### Readlines() fonksiyonu\n",
    "bütün satırları bir listeye ekler, eğer alt satır mevcutsa onları da \\n ile belirtecektir."
   ]
  },
  {
   "cell_type": "code",
   "execution_count": 27,
   "metadata": {},
   "outputs": [
    {
     "name": "stdout",
     "output_type": "stream",
     "text": [
      "['Memduh Baran Kurtboğan\\n', 'Orhan Kurtboğan\\n', 'Rezan Kurtboğan\\n', 'Nevin Kurtbogan\\n', 'Rojda Kurtboğan']\n"
     ]
    }
   ],
   "source": [
    "#readlines: her bir satırı okuyarak bir listeye atıyor.\n",
    "file=open(\"bilgiler.txt\",\"r\",encoding=\"utf-8\")\n",
    "liste=file.readlines()\n",
    "print(liste)\n",
    "file.close()"
   ]
  },
  {
   "cell_type": "code",
   "execution_count": null,
   "metadata": {},
   "outputs": [],
   "source": []
  }
 ],
 "metadata": {
  "kernelspec": {
   "display_name": "Python 3",
   "language": "python",
   "name": "python3"
  },
  "language_info": {
   "codemirror_mode": {
    "name": "ipython",
    "version": 3
   },
   "file_extension": ".py",
   "mimetype": "text/x-python",
   "name": "python",
   "nbconvert_exporter": "python",
   "pygments_lexer": "ipython3",
   "version": "3.8.5"
  }
 },
 "nbformat": 4,
 "nbformat_minor": 4
}
