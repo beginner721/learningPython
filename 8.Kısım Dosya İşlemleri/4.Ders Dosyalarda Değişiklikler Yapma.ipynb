{
 "cells": [
  {
   "cell_type": "markdown",
   "metadata": {},
   "source": [
    "### seek and write (r+ kipi) \n",
    "seek ile belirlenen noktaya gidip write kullanarak o kısıma veri girmeye çalışırsak yazdıklarımız öncekilerin üzerine yazılacaktır. ayrıca bunun için r+ file mode kullanılır. hem okuma hem yazma sağlar...."
   ]
  },
  {
   "cell_type": "code",
   "execution_count": 1,
   "metadata": {},
   "outputs": [
    {
     "name": "stdout",
     "output_type": "stream",
     "text": [
      "Memduh Baran Kurtboğan\n",
      "Orhan Kurtboğan\n",
      "Rezan Kurtboğan\n",
      "Nevin Kurtbogan\n",
      "Rojda Kurtboğan\n"
     ]
    }
   ],
   "source": [
    "with open(\"bilgiler.txt\",\"r+\",encoding=\"utf-8\") as file:\n",
    "    print(file.read())\n",
    "    "
   ]
  },
  {
   "cell_type": "code",
   "execution_count": 2,
   "metadata": {},
   "outputs": [],
   "source": [
    "with open(\"bilgiler.txt\",\"r+\",encoding=\"utf-8\") as file:\n",
    "    file.seek(14)\n",
    "    file.write(\"testtest\")"
   ]
  },
  {
   "cell_type": "code",
   "execution_count": 4,
   "metadata": {},
   "outputs": [
    {
     "name": "stdout",
     "output_type": "stream",
     "text": [
      "Memduh Baran Ktesttestn\n",
      "Orhan Kurtboğan\n",
      "Rezan Kurtboğan\n",
      "Nevin Kurtbogan\n",
      "Rojda Kurtboğan\n"
     ]
    }
   ],
   "source": [
    "with open(\"bilgiler.txt\",\"r+\",encoding=\"utf-8\") as file:\n",
    "    print(file.read())\n",
    "    #altta göründüğü gibi soyad kısmı silinmiş ve üzerine yazılmış"
   ]
  },
  {
   "cell_type": "markdown",
   "metadata": {},
   "source": [
    "### Dosyanın Sonunda değişiklik yapmak\n",
    "asıl kritik nokta dosyanın hangi bölümünde değişiklik yapmak istediğimizdir. dosyaların sonunda değişiklik yapmak için \"a\" file mode ile açacağız (append, eklemek..., a ile açılan dosyanın imleci en sona gidiyordu...) ve sadece dosyanın sonuna write ile ekleme yapacağız"
   ]
  },
  {
   "cell_type": "code",
   "execution_count": 5,
   "metadata": {},
   "outputs": [
    {
     "name": "stdout",
     "output_type": "stream",
     "text": [
      "Memduh Baran Kurtboğan\n",
      "Orhan Kurtboğan\n",
      "Rezan Kurtboğan\n",
      "Nevin Kurtbogan\n",
      "Rojda Kurtboğan\n"
     ]
    }
   ],
   "source": [
    "with open(\"bilgiler.txt\",\"r+\",encoding=\"utf-8\") as file:\n",
    "    print(file.read())\n",
    "    "
   ]
  },
  {
   "cell_type": "code",
   "execution_count": 12,
   "metadata": {},
   "outputs": [],
   "source": [
    "with open(\"bilgiler.txt\",\"a\",encoding=\"utf-8\") as file:\n",
    "    file.write(\"Emre Mert\\n\")"
   ]
  },
  {
   "cell_type": "code",
   "execution_count": 13,
   "metadata": {},
   "outputs": [
    {
     "name": "stdout",
     "output_type": "stream",
     "text": [
      "Memduh Baran Kurtboğan\n",
      "Orhan Kurtboğan\n",
      "Rezan Kurtboğan\n",
      "Nevin Kurtbogan\n",
      "Rojda Kurtboğan\n",
      "Emre Mert\n",
      "\n"
     ]
    }
   ],
   "source": [
    "with open(\"bilgiler.txt\",\"r+\",encoding=\"utf-8\") as file:\n",
    "    print(file.read())\n",
    "    "
   ]
  },
  {
   "cell_type": "code",
   "execution_count": 15,
   "metadata": {},
   "outputs": [],
   "source": [
    "with open(\"bilgiler.txt\",\"a\",encoding=\"utf-8\") as file:\n",
    "    file.write(\"Memcuk Bey\\n\")\n",
    "    "
   ]
  },
  {
   "cell_type": "code",
   "execution_count": 16,
   "metadata": {},
   "outputs": [
    {
     "name": "stdout",
     "output_type": "stream",
     "text": [
      "Memduh Baran Kurtboğan\n",
      "Orhan Kurtboğan\n",
      "Rezan Kurtboğan\n",
      "Nevin Kurtbogan\n",
      "Rojda Kurtboğan\n",
      "Emre Mert\n",
      "Memcuk Bey\n",
      "Memcuk Bey\n",
      "\n"
     ]
    }
   ],
   "source": [
    "with open(\"bilgiler.txt\",\"r+\",encoding=\"utf-8\") as file:\n",
    "    print(file.read())\n",
    "    "
   ]
  },
  {
   "cell_type": "markdown",
   "metadata": {},
   "source": [
    "### Dosyanın Başında Değişiklik Yapmak......\n",
    "dosyamızın ilk kısmına gir satır eklemek için ne yapabiliriz, dosyayı tamamen string halinde alıp boş satırı stringin ilk kısmına ekleyeceğiz. ardından seek ile dosya başına gidip write ile yazım yapabileceğiz....."
   ]
  },
  {
   "cell_type": "code",
   "execution_count": 17,
   "metadata": {},
   "outputs": [
    {
     "name": "stdout",
     "output_type": "stream",
     "text": [
      "Memduh Baran Kurtboğan\n",
      "Orhan Kurtboğan\n",
      "Rezan Kurtboğan\n",
      "Nevin Kurtbogan\n",
      "Rojda Kurtboğan\n",
      "Emre Mert\n",
      "Memcuk Bey\n",
      "\n"
     ]
    }
   ],
   "source": [
    "with open(\"bilgiler.txt\",\"r+\",encoding=\"utf-8\") as file:\n",
    "    print(file.read())\n",
    "    "
   ]
  },
  {
   "cell_type": "code",
   "execution_count": 25,
   "metadata": {},
   "outputs": [],
   "source": [
    "with open(\"bilgiler.txt\",\"r+\",encoding=\"utf-8\") as file:\n",
    "    icerik=file.read()\n",
    "    icerik=\"Kral Benim\\n\" + icerik # bütün veriyi içeriğe atadık ve başına ekleme yaptık ....\n",
    "    file.seek(0) # en başa geçtik\n",
    "    file.write(icerik) #write ile bütün dosyayı baştan yazdırtık, dosya içeriğini icerik değişkenine atadıgımız icin basit oldu"
   ]
  },
  {
   "cell_type": "code",
   "execution_count": 26,
   "metadata": {},
   "outputs": [
    {
     "name": "stdout",
     "output_type": "stream",
     "text": [
      "Kral Benim\n",
      "Kral Benim\n",
      "Memduh Baran Kurtboğan\n",
      "Orhan Kurtboğan\n",
      "Rezan Kurtboğan\n",
      "Nevin Kurtbogan\n",
      "Rojda Kurtboğan\n",
      "Emre Mert\n",
      "Memcuk Bey\n",
      "\n"
     ]
    }
   ],
   "source": [
    "with open(\"bilgiler.txt\",\"r+\",encoding=\"utf-8\") as file:\n",
    "    print(file.read())"
   ]
  },
  {
   "cell_type": "markdown",
   "metadata": {},
   "source": [
    "### Dosyanın Ortasında Değişiklik Yapmak\n",
    "Dosyaların ortasına bir satır veya veri eklemek için her satırı liste olarak veren readlines metodunu kullanacağız. ardından for döngüsü veya writelines metodu ile tekrar dosyaya yazım yapacağız..."
   ]
  },
  {
   "cell_type": "code",
   "execution_count": 27,
   "metadata": {},
   "outputs": [
    {
     "name": "stdout",
     "output_type": "stream",
     "text": [
      "['Kral Benim\\n', 'Kral Benim\\n', 'Memduh Baran Kurtboğan\\n', 'Orhan Kurtboğan\\n', 'Rezan Kurtboğan\\n', 'Nevin Kurtbogan\\n', 'Rojda Kurtboğan\\n', 'Emre Mert\\n', 'Memcuk Bey\\n']\n"
     ]
    }
   ],
   "source": [
    "with open(\"bilgiler.txt\",\"r+\",encoding=\"utf-8\") as file:\n",
    "    liste=file.readlines() #readlines her bir satırı bir liste halinde bize veriyordu\n",
    "    print(liste)"
   ]
  },
  {
   "cell_type": "code",
   "execution_count": 29,
   "metadata": {},
   "outputs": [],
   "source": [
    "with open(\"bilgiler.txt\",\"r+\",encoding=\"utf-8\") as file:\n",
    "    liste=file.readlines()\n",
    "    liste.insert(3,\"ARAYA EKLEDIM\\n\") # insert ile istediğimiz konuma (3) istediğimiz veriyi ekledik\n",
    "    file.seek(0) #en başa döndük\n",
    "    for i in liste: \n",
    "        file.write(i) #for döngüsüyle listeyi baştan yazdırdık"
   ]
  },
  {
   "cell_type": "code",
   "execution_count": 30,
   "metadata": {},
   "outputs": [
    {
     "name": "stdout",
     "output_type": "stream",
     "text": [
      "Kral Benim\n",
      "Kral Benim\n",
      "Memduh Baran Kurtboğan\n",
      "ARAYA EKLEDIM\n",
      "Orhan Kurtboğan\n",
      "Rezan Kurtboğan\n",
      "Nevin Kurtbogan\n",
      "Rojda Kurtboğan\n",
      "Emre Mert\n",
      "Memcuk Bey\n",
      "\n"
     ]
    }
   ],
   "source": [
    "with open(\"bilgiler.txt\",\"r+\",encoding=\"utf-8\") as file:\n",
    "    print(file.read())"
   ]
  },
  {
   "cell_type": "code",
   "execution_count": 31,
   "metadata": {},
   "outputs": [],
   "source": [
    "with open(\"bilgiler.txt\",\"r+\",encoding=\"utf-8\") as file:\n",
    "    liste=file.readlines()\n",
    "    liste.insert(3,\"FOR DONGUSU FARKLI YOL \\n\") # insert ile istediğimiz konuma (3) istediğimiz veriyi ekledik\n",
    "    file.seek(0) #en başa döndük\n",
    "    file.writelines(liste) #bunun sayesinde for döngüsü kullanmadan ekleme yapabileceğiz, listedeki bütün elemanları ekler..."
   ]
  },
  {
   "cell_type": "code",
   "execution_count": 32,
   "metadata": {},
   "outputs": [
    {
     "name": "stdout",
     "output_type": "stream",
     "text": [
      "Kral Benim\n",
      "Kral Benim\n",
      "Memduh Baran Kurtboğan\n",
      "FOR DONGUSU FARKLI YOL \n",
      "ARAYA EKLEDIM\n",
      "Orhan Kurtboğan\n",
      "Rezan Kurtboğan\n",
      "Nevin Kurtbogan\n",
      "Rojda Kurtboğan\n",
      "Emre Mert\n",
      "Memcuk Bey\n",
      "\n"
     ]
    }
   ],
   "source": [
    "with open(\"bilgiler.txt\",\"r+\",encoding=\"utf-8\") as file:\n",
    "    print(file.read())"
   ]
  },
  {
   "cell_type": "code",
   "execution_count": null,
   "metadata": {},
   "outputs": [],
   "source": []
  }
 ],
 "metadata": {
  "kernelspec": {
   "display_name": "Python 3",
   "language": "python",
   "name": "python3"
  },
  "language_info": {
   "codemirror_mode": {
    "name": "ipython",
    "version": 3
   },
   "file_extension": ".py",
   "mimetype": "text/x-python",
   "name": "python",
   "nbconvert_exporter": "python",
   "pygments_lexer": "ipython3",
   "version": "3.8.5"
  }
 },
 "nbformat": 4,
 "nbformat_minor": 4
}
