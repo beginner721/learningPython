{
 "cells": [
  {
   "cell_type": "markdown",
   "metadata": {},
   "source": [
    "### Dosya Açmak\n",
    "Bir dosyayı açmak için open() fonksiyonunu kullanıyoruz.\n",
    "open(dosya_adi,dosya_erisme_yolu)\n",
    "dosya adını istediğimiz gibi verebiliriz, dosya erişme yolu ise dosya üzerindeki yapılacak işlemleri belirtir.\n",
    "\n",
    "\"w\" file mode\n",
    "write anlamına gelir, bu kip kullanılırsa dizinde öyle bir dosya yoksa öncelikle dosyayı oluşturur, eğer o isimde bir dosya mevcutsa o dosyayı silerek  tekrar oluşturur. Eğer aynı isimde farklı bir dosya mevcutsa veya daha önceden açtıysanız, bu mod verilerinizi kaybetmenize sebep olabilir.\n"
   ]
  },
  {
   "cell_type": "code",
   "execution_count": 1,
   "metadata": {},
   "outputs": [
    {
     "data": {
      "text/plain": [
       "<_io.TextIOWrapper name='bilgiler.txt' mode='w' encoding='cp1254'>"
      ]
     },
     "execution_count": 1,
     "metadata": {},
     "output_type": "execute_result"
    }
   ],
   "source": [
    "open(\"bilgiler.txt\",\"w\") #dosyayı mevcut dizine açar..."
   ]
  },
  {
   "cell_type": "code",
   "execution_count": 2,
   "metadata": {},
   "outputs": [],
   "source": [
    "file=open(\"bilgiler.txt\",\"w\") # dosya üzerinde işlem yapılacak dosya imlecini file isimli değişkene atıyoruz\n",
    "          #işlem yaparken file adını kullanmamız yeterli olacaktır...."
   ]
  },
  {
   "cell_type": "markdown",
   "metadata": {},
   "source": [
    "#### Dosya Kapatmak \n",
    "Bir dosya üzerinde yapılan işlemi tamamladıktan sonra dosyayı kapatmak oldukça önemlidir. Program bitse dahi dosyanın kapanmasını garanti altına almış oluruz. Açık kaldığı sürece sistem kaynaklarını tüketecektir: işlemci ram vs..."
   ]
  },
  {
   "cell_type": "code",
   "execution_count": 4,
   "metadata": {},
   "outputs": [],
   "source": [
    "file.close() #dosyayı kapattık."
   ]
  },
  {
   "cell_type": "markdown",
   "metadata": {},
   "source": [
    "Eğer dosyayı bulunan dizine değil de farklı bir yere açmak istersek konum belirtmeliyiz..."
   ]
  },
  {
   "cell_type": "code",
   "execution_count": 5,
   "metadata": {},
   "outputs": [],
   "source": [
    "file = open(\"C:/Users/baran/Desktop/bilgilerrryn.txt\",\"w\") #masaüstüne bilgiler txt dosyası açmış olduk."
   ]
  },
  {
   "cell_type": "code",
   "execution_count": 6,
   "metadata": {},
   "outputs": [],
   "source": [
    "file.close()"
   ]
  },
  {
   "cell_type": "markdown",
   "metadata": {},
   "source": [
    "#### W file modu ile dosyalara yazmak"
   ]
  },
  {
   "cell_type": "code",
   "execution_count": 7,
   "metadata": {},
   "outputs": [],
   "source": [
    "file=open(\"bilgiler.txt\",\"w\",encoding=\"utf-8\") #türkçe karakterler için utf ekledik..."
   ]
  },
  {
   "cell_type": "code",
   "execution_count": 8,
   "metadata": {},
   "outputs": [
    {
     "data": {
      "text/plain": [
       "22"
      ]
     },
     "execution_count": 8,
     "metadata": {},
     "output_type": "execute_result"
    }
   ],
   "source": [
    "file.write(\"Memduh Baran Kurtboğan\") # write fonksiyonu ile yazmayı gerçekleştirdik ve \n",
    "#sonuç olarak bize kaç byte kullandıgımızı gösterecek"
   ]
  },
  {
   "cell_type": "code",
   "execution_count": 9,
   "metadata": {},
   "outputs": [],
   "source": [
    "file.close() #bu şekilde yazıp dosyayı kapatmış olduk ancak sürekli w kullanılırsa sıfırdan başlanacaktır peki ne yapabiliriz ?"
   ]
  },
  {
   "cell_type": "markdown",
   "metadata": {},
   "source": [
    "#### \"a\" file mode, \n",
    "append kelimesinin kısaltılmış halidir, a kipiyle dosya açıldığında dosya eğer yoksa oluşturulur, varsa dosyanın sonuna giderek imleç kaldığı yerden ekleme yapar...."
   ]
  },
  {
   "cell_type": "code",
   "execution_count": 10,
   "metadata": {},
   "outputs": [],
   "source": [
    "file=open(\"bilgiler.txt\",\"a\",encoding=\"utf-8\")"
   ]
  },
  {
   "cell_type": "code",
   "execution_count": 11,
   "metadata": {},
   "outputs": [
    {
     "data": {
      "text/plain": [
       "22"
      ]
     },
     "execution_count": 11,
     "metadata": {},
     "output_type": "execute_result"
    }
   ],
   "source": [
    "file.write(\"biraz da şöyle yazalım\")"
   ]
  },
  {
   "cell_type": "code",
   "execution_count": 12,
   "metadata": {},
   "outputs": [],
   "source": [
    "file.close()"
   ]
  },
  {
   "cell_type": "code",
   "execution_count": 13,
   "metadata": {},
   "outputs": [
    {
     "data": {
      "text/plain": [
       "9"
      ]
     },
     "execution_count": 13,
     "metadata": {},
     "output_type": "execute_result"
    }
   ],
   "source": [
    "file=open(\"bilgiler.txt\",\"a\",encoding=\"utf-8\")\n",
    "file.write(\"Orhan Bey\") #yine dosya sonuna ekleme yaptık"
   ]
  },
  {
   "cell_type": "code",
   "execution_count": 14,
   "metadata": {},
   "outputs": [],
   "source": [
    "file.close()"
   ]
  },
  {
   "cell_type": "markdown",
   "metadata": {},
   "source": [
    "burada dosyayı kontrol ederseniz hepsi bitişik olarak ardı ardına yazılmıştır, alt alta yazmak istersek alt satıra geçmek istediğimiz her cümle veya kelime için(veya ne yazılıyorsa) sonuna \\n ifadesi bırakılmalıdır. alt satıra geçer bir sonraki yazışınızda da alt satırdan kaldığı yerden devam edecektir."
   ]
  },
  {
   "cell_type": "code",
   "execution_count": 15,
   "metadata": {},
   "outputs": [],
   "source": [
    "file=open(\"bilgiler.txt\",\"a\",encoding=\"utf-8\")"
   ]
  },
  {
   "cell_type": "code",
   "execution_count": 16,
   "metadata": {},
   "outputs": [
    {
     "data": {
      "text/plain": [
       "28"
      ]
     },
     "execution_count": 16,
     "metadata": {},
     "output_type": "execute_result"
    }
   ],
   "source": [
    "file.write(\"Biraz da alt satıra yazalım\\n\") #başına da koyduk ki alt satırdan başlasın ve bitince de alt satırda kalsın"
   ]
  },
  {
   "cell_type": "code",
   "execution_count": 17,
   "metadata": {},
   "outputs": [
    {
     "data": {
      "text/plain": [
       "30"
      ]
     },
     "execution_count": 17,
     "metadata": {},
     "output_type": "execute_result"
    }
   ],
   "source": [
    "file.write(\"Biraz daha alt satıra geçelim\\n\")"
   ]
  },
  {
   "cell_type": "code",
   "execution_count": 18,
   "metadata": {},
   "outputs": [],
   "source": [
    "file.close()"
   ]
  },
  {
   "cell_type": "code",
   "execution_count": 19,
   "metadata": {},
   "outputs": [],
   "source": [
    "#DİKKAT: Yaptığınız işlemleri görebilmeniz için dosyayı CLOSE ile kapatmanız gerekir, kapatmadan göremezsiniz..."
   ]
  }
 ],
 "metadata": {
  "kernelspec": {
   "display_name": "Python 3",
   "language": "python",
   "name": "python3"
  },
  "language_info": {
   "codemirror_mode": {
    "name": "ipython",
    "version": 3
   },
   "file_extension": ".py",
   "mimetype": "text/x-python",
   "name": "python",
   "nbconvert_exporter": "python",
   "pygments_lexer": "ipython3",
   "version": "3.8.5"
  }
 },
 "nbformat": 4,
 "nbformat_minor": 4
}
