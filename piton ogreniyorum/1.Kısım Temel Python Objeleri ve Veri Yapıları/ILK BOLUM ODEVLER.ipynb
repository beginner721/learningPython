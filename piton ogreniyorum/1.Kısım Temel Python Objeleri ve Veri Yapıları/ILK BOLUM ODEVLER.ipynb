{
 "cells": [
  {
   "cell_type": "code",
   "execution_count": 1,
   "metadata": {},
   "outputs": [
    {
     "name": "stdout",
     "output_type": "stream",
     "text": [
      "Lutfen bir sayi girin:1\n",
      "Lutfen ikinci sayi girin:2\n",
      "Lutfen ucuncu sayi girin:3\n",
      "1 x 2 x 3 işleminin sonucu 6 olacaktır.\n"
     ]
    }
   ],
   "source": [
    "#problem 1\n",
    "a=int(input(\"Lutfen bir sayi girin:\"))\n",
    "b=int(input(\"Lutfen ikinci sayi girin:\"))\n",
    "c=int(input(\"Lutfen ucuncu sayi girin:\"))\n",
    "\n",
    "print(\"{} x {} x {} işleminin sonucu {} olacaktır.\".format(a,b,c,a*b*c))\n"
   ]
  },
  {
   "cell_type": "code",
   "execution_count": 2,
   "metadata": {},
   "outputs": [
    {
     "name": "stdout",
     "output_type": "stream",
     "text": [
      "Kilonuz:70\n",
      "Boyunuz:1.70\n",
      "Vücut kitle indeksi: 24.221453287197235\n"
     ]
    }
   ],
   "source": [
    "#problem 2\n",
    "a=float(input(\"Kilonuz:\"))\n",
    "b=float(input(\"Boyunuz:\"))\n",
    "\n",
    "\n",
    "print(\"Vücut kitle indeksi:\", a/b**2)\n"
   ]
  },
  {
   "cell_type": "code",
   "execution_count": 3,
   "metadata": {},
   "outputs": [
    {
     "name": "stdout",
     "output_type": "stream",
     "text": [
      "Yakıt hesaplama aracı\n",
      "Güncel benzin fiyatı (TL):50\n",
      "Gidilen mesafe (km):100\n",
      "100km de aracın tüketimi:3\n",
      "Toplam TL Ödeme: 150.0\n"
     ]
    }
   ],
   "source": [
    "#problem 3 ama detaylı\n",
    "print(\"Yakıt hesaplama aracı\")\n",
    "\n",
    "a=float(input(\"Güncel benzin fiyatı (TL):\"))\n",
    "b=float(input(\"Gidilen mesafe (km):\"))\n",
    "c=float(input(\"100km de aracın tüketimi:\"))\n",
    "\n",
    "print(\"Toplam TL Ödeme:\",(a*c/100)*b)\n"
   ]
  },
  {
   "cell_type": "code",
   "execution_count": 1,
   "metadata": {},
   "outputs": [
    {
     "name": "stdout",
     "output_type": "stream",
     "text": [
      "Adınız:Baran\n",
      "Soyadınız:Kurtboğan\n",
      "Numaranız5432145272\n",
      "Bilgileriniz işleniyor...\n",
      "Ad: Baran \n",
      " Soyad: Kurtboğan \n",
      " Numara: 5432145272\n"
     ]
    }
   ],
   "source": [
    "#problem 4 ad soyad numara bilgilerini alıp alt alta yazdırma\n",
    "a=input(\"Adınız:\")\n",
    "s=input(\"Soyadınız:\")\n",
    "n=input(\"Numaranız\")\n",
    "\n",
    "print(\"Bilgileriniz işleniyor...\")\n",
    "print(\"Ad: {} \\n Soyad: {} \\n Numara: {}\".format(a,s,n))"
   ]
  },
  {
   "cell_type": "code",
   "execution_count": 2,
   "metadata": {},
   "outputs": [
    {
     "name": "stdout",
     "output_type": "stream",
     "text": [
      "Sayıların değerlerini değiştirme\n",
      "İlk Sayı:5\n",
      "İkinci Sayı:10\n",
      "İlk sayı: 10 İkinci Sayı: 5 \n"
     ]
    }
   ],
   "source": [
    "#problem 5 Kullanıcıdan iki tane sayı isteyin ve bu sayıların değerlerini birbirleriyle değiştirin\n",
    "print(\"Sayıların değerlerini değiştirme\")\n",
    "\n",
    "a=input(\"İlk Sayı:\")\n",
    "b=input(\"İkinci Sayı:\")\n",
    "print(\"İlk sayı: {} İkinci Sayı: {} \".format(b,a))"
   ]
  },
  {
   "cell_type": "code",
   "execution_count": 3,
   "metadata": {},
   "outputs": [
    {
     "name": "stdout",
     "output_type": "stream",
     "text": [
      "Hipotenus Bulma\n",
      "Birinci kenar:3\n",
      "İkinci kenar:4\n",
      "Hipotenus Hesaplanıyor...\n",
      "Hipotenus: 5.0\n"
     ]
    }
   ],
   "source": [
    "# problem 6 Kullanıcıdan bir dik üçgenin dik olan iki kenarını(a,b) alın ve hipotenüs uzunluğunu bulmaya çalışın.\n",
    "print(\"Hipotenus Bulma\")\n",
    "\n",
    "a=int(input(\"Birinci kenar:\"))\n",
    "b=int(input(\"İkinci kenar:\"))\n",
    "print(\"Hipotenus Hesaplanıyor...\")\n",
    "c= (a**2+b**2)**0.5\n",
    "print(\"Hipotenus:\",c)\n"
   ]
  },
  {
   "cell_type": "code",
   "execution_count": null,
   "metadata": {},
   "outputs": [],
   "source": []
  }
 ],
 "metadata": {
  "kernelspec": {
   "display_name": "Python 3",
   "language": "python",
   "name": "python3"
  },
  "language_info": {
   "codemirror_mode": {
    "name": "ipython",
    "version": 3
   },
   "file_extension": ".py",
   "mimetype": "text/x-python",
   "name": "python",
   "nbconvert_exporter": "python",
   "pygments_lexer": "ipython3",
   "version": "3.8.5"
  }
 },
 "nbformat": 4,
 "nbformat_minor": 4
}
