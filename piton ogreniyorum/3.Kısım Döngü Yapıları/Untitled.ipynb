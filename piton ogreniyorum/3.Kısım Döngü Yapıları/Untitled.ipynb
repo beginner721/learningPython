{
 "cells": [
  {
   "cell_type": "code",
   "execution_count": 1,
   "metadata": {},
   "outputs": [
    {
     "ename": "NameError",
     "evalue": "name 'orhanbey' is not defined",
     "output_type": "error",
     "traceback": [
      "\u001b[1;31m---------------------------------------------------------------------------\u001b[0m",
      "\u001b[1;31mNameError\u001b[0m                                 Traceback (most recent call last)",
      "\u001b[1;32m<ipython-input-1-4c620ba6ee91>\u001b[0m in \u001b[0;36m<module>\u001b[1;34m\u001b[0m\n\u001b[1;32m----> 1\u001b[1;33m \u001b[0meposta\u001b[0m\u001b[1;33m=\u001b[0m\u001b[0morhanbey\u001b[0m\u001b[1;33m@\u001b[0m\u001b[0mgmail\u001b[0m\u001b[1;33m.\u001b[0m\u001b[0mcom\u001b[0m\u001b[1;33m\u001b[0m\u001b[1;33m\u001b[0m\u001b[0m\n\u001b[0m",
      "\u001b[1;31mNameError\u001b[0m: name 'orhanbey' is not defined"
     ]
    }
   ],
   "source": [
    "eposta=orhanbey@gmail.com"
   ]
  },
  {
   "cell_type": "code",
   "execution_count": 4,
   "metadata": {},
   "outputs": [
    {
     "ename": "IndentationError",
     "evalue": "unexpected indent (<ipython-input-4-b71ef0ba7aac>, line 2)",
     "output_type": "error",
     "traceback": [
      "\u001b[1;36m  File \u001b[1;32m\"<ipython-input-4-b71ef0ba7aac>\"\u001b[1;36m, line \u001b[1;32m2\u001b[0m\n\u001b[1;33m    elif (girishak==0):\u001b[0m\n\u001b[1;37m    ^\u001b[0m\n\u001b[1;31mIndentationError\u001b[0m\u001b[1;31m:\u001b[0m unexpected indent\n"
     ]
    }
   ],
   "source": [
    "   ############################################\n",
    "    elif (girishak==0):\n",
    "        print(\"Giriş Hakkınız Bitti...\")\n",
    "        print(\"Şifrenizi unuttuysanız 1\\nKullanıcı adınızı unuttuysanız 2\")\n",
    "        a=int(input(\"Hatırlatma Aracı ( 1 veya 2 ): \" )\n",
    "        sifrehata=input(\"Eposta adresiniz\")\n",
    "        kadihata=input(\"Eposta ADresiniz\")\n",
    "        if (a==1):\n",
    "                sifrehata=input(\"Eposta Adresiniz: \")\n",
    "            elif (eposta== sifrehata):\n",
    "                    print(\"Şifreniz Mail Adresinize Gönderildi.\")\n",
    "            elif (eposta!=):\n",
    "                    print(\"Eposta Adresiniz Sistemdeki Verilerle Uyuşmuyor\")\n",
    "        if a==2:\n",
    "                kadihata=input(\"Eposta Adresiniz: \")\n",
    "            elif (eposta==kadihata):\n",
    "                    print(\"Kullanıcı Adınız Eposta Adresinize Gönderildi.\")\n",
    "            elif (eposta!=kadihata):\n",
    "                    print(\"Eposta Adresiniz Sistemdeki Verilerle Uyuşmuyor\")\n",
    "            ###########################################################"
   ]
  },
  {
   "cell_type": "code",
   "execution_count": null,
   "metadata": {},
   "outputs": [],
   "source": []
  }
 ],
 "metadata": {
  "kernelspec": {
   "display_name": "Python 3",
   "language": "python",
   "name": "python3"
  },
  "language_info": {
   "codemirror_mode": {
    "name": "ipython",
    "version": 3
   },
   "file_extension": ".py",
   "mimetype": "text/x-python",
   "name": "python",
   "nbconvert_exporter": "python",
   "pygments_lexer": "ipython3",
   "version": "3.8.5"
  }
 },
 "nbformat": 4,
 "nbformat_minor": 4
}
