{
 "cells": [
  {
   "cell_type": "markdown",
   "metadata": {},
   "source": [
    "List Comprehension bir liste içerisinden yeni bir liste oluşturmanın kısa yoludur.\n",
    "Öncelikle for döngüsü ile görelim ardından list comprehension yöntemlerini görelim."
   ]
  },
  {
   "cell_type": "code",
   "execution_count": 1,
   "metadata": {},
   "outputs": [],
   "source": [
    "#append metodu ile listeye veri ekleriz\n",
    "liste=[1,2,3,4]\n",
    "liste.append(5)"
   ]
  },
  {
   "cell_type": "code",
   "execution_count": 2,
   "metadata": {},
   "outputs": [
    {
     "data": {
      "text/plain": [
       "[1, 2, 3, 4, 5]"
      ]
     },
     "execution_count": 2,
     "metadata": {},
     "output_type": "execute_result"
    }
   ],
   "source": [
    "liste"
   ]
  },
  {
   "cell_type": "code",
   "execution_count": 4,
   "metadata": {},
   "outputs": [
    {
     "name": "stdout",
     "output_type": "stream",
     "text": [
      "[1, 2, 3, 4, 5]\n"
     ]
    }
   ],
   "source": [
    "#liste 1 den yeni bir liste2 oluşturalım\n",
    "liste1=[1,2,3,4,5]\n",
    "liste2=[] #boş bir liste oluşturduk \n",
    "\n",
    "for i in liste1:\n",
    "    liste2.append(i)\n",
    "print(liste2)"
   ]
  },
  {
   "cell_type": "code",
   "execution_count": 5,
   "metadata": {},
   "outputs": [
    {
     "name": "stdout",
     "output_type": "stream",
     "text": [
      "[3, 5, 9, 10, 11]\n"
     ]
    }
   ],
   "source": [
    "#liste1 deki bütün değerler yukarıda yeni bir liste2 içerisine eklendi, ancak list comprehension ile kısaltabiliriz\n",
    "\n",
    "#örnek\n",
    "liste1=[3,5,9,10,11]\n",
    "liste2=[i for i in liste1]\n",
    "print(liste2)"
   ]
  },
  {
   "cell_type": "code",
   "execution_count": 9,
   "metadata": {},
   "outputs": [
    {
     "name": "stdout",
     "output_type": "stream",
     "text": [
      "[1, 2, 3, 4, 5, 6, 7]\n"
     ]
    }
   ],
   "source": [
    "#listedeki verilere matematiksel işlemler uygulayarak transfer edilebilir\n",
    "liste1=[5,10,15,20,25,30,35]\n",
    "liste2=[i//5 for i in liste1] #// kalansız bölme verir, / ise ondalıklı verir 1.0 2.0 gibi\n",
    "print(liste2)"
   ]
  },
  {
   "cell_type": "code",
   "execution_count": 14,
   "metadata": {},
   "outputs": [
    {
     "name": "stdout",
     "output_type": "stream",
     "text": [
      "[2, 50, 132]\n"
     ]
    }
   ],
   "source": [
    "lis2=[(1,2),(5,10),(11,12)]\n",
    "lis3=[x*y for x,y in lis2]\n",
    "print(lis3)"
   ]
  },
  {
   "cell_type": "code",
   "execution_count": 29,
   "metadata": {},
   "outputs": [
    {
     "name": "stdout",
     "output_type": "stream",
     "text": [
      "[1, 2, 3, 5, 6, 7, 8, 10]\n"
     ]
    }
   ],
   "source": [
    "listr=list(range(1,11))\n",
    "liste2=[i for i in listr if not (i==4 or i==9)]\n",
    "print(liste2)"
   ]
  },
  {
   "cell_type": "code",
   "execution_count": 30,
   "metadata": {},
   "outputs": [
    {
     "name": "stdout",
     "output_type": "stream",
     "text": [
      "[1, 2, 3]\n",
      "[4, 5, 6, 7, 8]\n",
      "[9, 10, 11, 12, 13, 14, 15, 100]\n"
     ]
    }
   ],
   "source": [
    "liste=[[1,2,3],[4,5,6,7,8],[9,10,11,12,13,14,15,100]]\n",
    "liste2=list() #boş liste\n",
    "for i in liste:\n",
    "    print(i) #burada her bir İ farklı bir liste haline geldi, bu i leri  liste2 ye aktaralım"
   ]
  },
  {
   "cell_type": "code",
   "execution_count": 32,
   "metadata": {},
   "outputs": [
    {
     "name": "stdout",
     "output_type": "stream",
     "text": [
      "[1, 2, 3, 4, 5, 6, 7, 8, 9, 10, 11, 12, 13, 14, 15, 100]\n"
     ]
    }
   ],
   "source": [
    "liste=[[1,2,3],[4,5,6,7,8],[9,10,11,12,13,14,15,100]]\n",
    "liste2=list() #boş liste\n",
    "for i in liste: # İ lerin hepsi bir liste oldu\n",
    "    for x in i: # i listelerinin içinde tekrar gezindik\n",
    "        liste2.append(x) \n",
    "print(liste2) #liste içi listeyi, tek listeye aktardık \n",
    "#bunları list comprehension ile yapmayı deneyelim"
   ]
  },
  {
   "cell_type": "code",
   "execution_count": 34,
   "metadata": {},
   "outputs": [
    {
     "name": "stdout",
     "output_type": "stream",
     "text": [
      "[1, 2, 3, 4, 5, 6, 7, 8, 9, 10, 11, 12, 13, 14, 15, 100]\n"
     ]
    }
   ],
   "source": [
    "liste=[[1,2,3],[4,5,6,7,8],[9,10,11,12,13,14,15,100]]\n",
    "liste2=[x for i in liste for x in i]\n",
    "print(liste2)\n",
    "#kısa yoldan list comprehension kullanarak eklemiş olduk,"
   ]
  },
  {
   "cell_type": "markdown",
   "metadata": {},
   "source": [
    "For döngüsü veya list comprehension işlemi kullanmanın arasında fark yoktur, dilediğimizi kullanabiliriz.\n",
    "Amaç işleri kolaylaştırmak/sadeleştirmek."
   ]
  },
  {
   "cell_type": "code",
   "execution_count": null,
   "metadata": {},
   "outputs": [],
   "source": []
  }
 ],
 "metadata": {
  "kernelspec": {
   "display_name": "Python 3",
   "language": "python",
   "name": "python3"
  },
  "language_info": {
   "codemirror_mode": {
    "name": "ipython",
    "version": 3
   },
   "file_extension": ".py",
   "mimetype": "text/x-python",
   "name": "python",
   "nbconvert_exporter": "python",
   "pygments_lexer": "ipython3",
   "version": "3.8.5"
  }
 },
 "nbformat": 4,
 "nbformat_minor": 4
}
