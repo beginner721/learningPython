{
 "cells": [
  {
   "cell_type": "code",
   "execution_count": 6,
   "metadata": {},
   "outputs": [
    {
     "name": "stdout",
     "output_type": "stream",
     "text": [
      "İşlem giriniz:ss\n",
      "Geçersiz işlem\n"
     ]
    }
   ],
   "source": [
    "#birden fazla koşul olduğu durumlarda iften sonra elif kullanılır\n",
    "#else ise hiçbir koşul sağlanmadığı durumlarda devreye girecektir\n",
    "islem=input(\"İşlem giriniz:\")\n",
    "if islem ==\"1\":\n",
    "    print(\"İşlem 1 seçildi\")\n",
    "elif islem==\"2\":\n",
    "    print(\"İşlem 2 seçildi\")\n",
    "elif islem==\"3\":\n",
    "    print(\"İşlem 3 seçildi\")\n",
    "elif islem ==\"4\":\n",
    "    print(\"İşlem 4 seçildi\")\n",
    "else:\n",
    "    print(\"Geçersiz işlem\")"
   ]
  },
  {
   "cell_type": "code",
   "execution_count": 7,
   "metadata": {},
   "outputs": [
    {
     "ename": "SyntaxError",
     "evalue": "invalid syntax (<ipython-input-7-3b3185a6710d>, line 2)",
     "output_type": "error",
     "traceback": [
      "\u001b[1;36m  File \u001b[1;32m\"<ipython-input-7-3b3185a6710d>\"\u001b[1;36m, line \u001b[1;32m2\u001b[0m\n\u001b[1;33m    else:\u001b[0m\n\u001b[1;37m    ^\u001b[0m\n\u001b[1;31mSyntaxError\u001b[0m\u001b[1;31m:\u001b[0m invalid syntax\n"
     ]
    }
   ],
   "source": [
    "#yalnızca else bloğu tek başına kullanılmaz\n",
    "else:\n",
    "    print(\"Aynen\")"
   ]
  },
  {
   "cell_type": "code",
   "execution_count": 8,
   "metadata": {},
   "outputs": [
    {
     "ename": "SyntaxError",
     "evalue": "invalid syntax (<ipython-input-8-8c754e396f3b>, line 2)",
     "output_type": "error",
     "traceback": [
      "\u001b[1;36m  File \u001b[1;32m\"<ipython-input-8-8c754e396f3b>\"\u001b[1;36m, line \u001b[1;32m2\u001b[0m\n\u001b[1;33m    elif işlem==\"1\":\u001b[0m\n\u001b[1;37m    ^\u001b[0m\n\u001b[1;31mSyntaxError\u001b[0m\u001b[1;31m:\u001b[0m invalid syntax\n"
     ]
    }
   ],
   "source": [
    "#elif bloğu da tek başına kullanılamz\n",
    "elif işlem==\"1\":\n",
    "    print(\"Aynen\")"
   ]
  },
  {
   "cell_type": "code",
   "execution_count": 20,
   "metadata": {},
   "outputs": [
    {
     "name": "stdout",
     "output_type": "stream",
     "text": [
      "Bir sayı girin:0\n",
      "Sayı sıfıra eşit\n"
     ]
    }
   ],
   "source": [
    "number=float(input(\"Bir sayı girin:\"))\n",
    "if number>=0:\n",
    "#burada >= 0 yerine >0 olsaydı, sıfır verildiğinde bu koşulu sağlamadan direkt olarak else gidip sıfıra negatif diyecekti\n",
    "    if number==0:\n",
    "        print(\"Sayı sıfıra eşit\")\n",
    "    else:\n",
    "        print(\"Sayı bir pozitif sayı\")\n",
    "else:\n",
    "    print(\"Negatif sayı\")"
   ]
  },
  {
   "cell_type": "code",
   "execution_count": 22,
   "metadata": {},
   "outputs": [
    {
     "name": "stdout",
     "output_type": "stream",
     "text": [
      "Bir sayı girin:0\n",
      "Negatif sayı\n"
     ]
    }
   ],
   "source": [
    "number=float(input(\"Bir sayı girin:\"))\n",
    "if number>0:\n",
    "    if number==0:\n",
    "        print(\"Sayı sıfıra eşit\")\n",
    "    else:\n",
    "        print(\"Sayı bir pozitif sayı\")\n",
    "else:\n",
    "    print(\"Negatif sayı\")"
   ]
  },
  {
   "cell_type": "code",
   "execution_count": 25,
   "metadata": {},
   "outputs": [
    {
     "name": "stdout",
     "output_type": "stream",
     "text": [
      "Bu bölüme girmeye izniniz bulunmuyor\n"
     ]
    }
   ],
   "source": [
    "getAccess = False\n",
    " \n",
    "if (not getAccess):\n",
    "    print(\"Bu bölüme girmeye izniniz bulunmuyor\")\n",
    " \n",
    "else:\n",
    "    print(\"İzin sağlandı\")"
   ]
  },
  {
   "cell_type": "code",
   "execution_count": null,
   "metadata": {},
   "outputs": [],
   "source": []
  }
 ],
 "metadata": {
  "kernelspec": {
   "display_name": "Python 3",
   "language": "python",
   "name": "python3"
  },
  "language_info": {
   "codemirror_mode": {
    "name": "ipython",
    "version": 3
   },
   "file_extension": ".py",
   "mimetype": "text/x-python",
   "name": "python",
   "nbconvert_exporter": "python",
   "pygments_lexer": "ipython3",
   "version": "3.8.5"
  }
 },
 "nbformat": 4,
 "nbformat_minor": 4
}
