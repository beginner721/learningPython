{
 "cells": [
  {
   "cell_type": "raw",
   "metadata": {},
   "source": [
    " Burada object oriented programming'de inheritance konusunu anlamaya çalışacağız, inheritance veya katılım; bir sınıfın başka bir sınıftan özelliklerini(attribute)ve metodlarını miras almasıdır.\n",
    "Peki bu inheritance nerede işimize yarar?.\n",
    "Örnek olarak oluşturulan bir classın içerisinde kullandığımız metod ve özellikler var.\n",
    "Bir şirkette çalışanlar için class oluştururken içerisine ad soyad telefon numarası gibi özellikler koyacağız, eğer şirketin yönetimi için de bir class açacak olursak ortak payda olarak ad soyad tel no yine kullanılacaktır.\n",
    "Bunları baştan tekrar tanımlamak yerinde direkt olarak inheritance olarak devir ederek kullanabiliriz.\n",
    "Örneklerle bakalım."
   ]
  },
  {
   "cell_type": "markdown",
   "metadata": {},
   "source": [
    "## Inheritance / KALITIM"
   ]
  },
  {
   "cell_type": "code",
   "execution_count": 1,
   "metadata": {},
   "outputs": [],
   "source": [
    "class Calisan():\n",
    "    def __init__(self, isim, maas, departman):\n",
    "        print(\"Çalışan Classında init Function\")\n",
    "        self.isim= isim\n",
    "        self.maas= maas\n",
    "        self.departman= departman\n",
    "        \n",
    "    def bilgileri_goster(self):\n",
    "        print(\"\\n **Çalışan sınıfının bilgileri**\\n\")\n",
    "        print(\"İsim: {}\\nSoyisim: {}\\nDepartman: {}\".format(self.isim,self.maas,self.departman))\n",
    "        \n",
    "    def departman_degistir(self,yeni_departman):\n",
    "        print(\"Departman değiştiriliyor.\")\n",
    "        self.departman=yeni_departman\n",
    "    "
   ]
  },
  {
   "cell_type": "code",
   "execution_count": 2,
   "metadata": {},
   "outputs": [
    {
     "name": "stdout",
     "output_type": "stream",
     "text": [
      "Çalışan Classında init Function\n"
     ]
    }
   ],
   "source": [
    "calisan1=Calisan(\"Memduh\",5000,\"Finans\")"
   ]
  },
  {
   "cell_type": "code",
   "execution_count": 3,
   "metadata": {},
   "outputs": [
    {
     "name": "stdout",
     "output_type": "stream",
     "text": [
      "\n",
      " **Çalışan sınıfının bilgileri**\n",
      "\n",
      "İsim: Memduh\n",
      "Soyisim: 5000\n",
      "Departman: Finans\n"
     ]
    }
   ],
   "source": [
    "calisan1.bilgileri_goster()"
   ]
  },
  {
   "cell_type": "code",
   "execution_count": 4,
   "metadata": {},
   "outputs": [],
   "source": [
    "#şimdi farklı bir class oluşturalım ve ardından Calisan Class'ından direkt olarak metod kullanalım\n",
    "\n",
    "class Yonetici(Calisan): #parantez içinde calisan yazacağız ve inheritance kullanmış olacağız\n",
    "    pass #pass burada bloğu sonradan tanımlamak istediğimizde kullanılan deyimdir"
   ]
  },
  {
   "cell_type": "code",
   "execution_count": 5,
   "metadata": {},
   "outputs": [
    {
     "name": "stdout",
     "output_type": "stream",
     "text": [
      "Çalışan Classında init Function\n"
     ]
    }
   ],
   "source": [
    "yonetici1= Yonetici(\"Ahmet\",5000,\"Genel Müdür\")"
   ]
  },
  {
   "cell_type": "markdown",
   "metadata": {},
   "source": [
    "yukarıda ve aşağıda görüldüğü gibi çalışan classındaki fonksiyon çalıştırıldı..."
   ]
  },
  {
   "cell_type": "code",
   "execution_count": 6,
   "metadata": {},
   "outputs": [
    {
     "name": "stdout",
     "output_type": "stream",
     "text": [
      "\n",
      " **Çalışan sınıfının bilgileri**\n",
      "\n",
      "İsim: Ahmet\n",
      "Soyisim: 5000\n",
      "Departman: Genel Müdür\n"
     ]
    }
   ],
   "source": [
    "yonetici1.bilgileri_goster()"
   ]
  },
  {
   "cell_type": "code",
   "execution_count": 7,
   "metadata": {},
   "outputs": [
    {
     "data": {
      "text/plain": [
       "['__class__',\n",
       " '__delattr__',\n",
       " '__dict__',\n",
       " '__dir__',\n",
       " '__doc__',\n",
       " '__eq__',\n",
       " '__format__',\n",
       " '__ge__',\n",
       " '__getattribute__',\n",
       " '__gt__',\n",
       " '__hash__',\n",
       " '__init__',\n",
       " '__init_subclass__',\n",
       " '__le__',\n",
       " '__lt__',\n",
       " '__module__',\n",
       " '__ne__',\n",
       " '__new__',\n",
       " '__reduce__',\n",
       " '__reduce_ex__',\n",
       " '__repr__',\n",
       " '__setattr__',\n",
       " '__sizeof__',\n",
       " '__str__',\n",
       " '__subclasshook__',\n",
       " '__weakref__',\n",
       " 'bilgileri_goster',\n",
       " 'departman_degistir']"
      ]
     },
     "execution_count": 7,
     "metadata": {},
     "output_type": "execute_result"
    }
   ],
   "source": [
    "#bütün methodları calisan classından almış olduk\n",
    "dir(Yonetici)"
   ]
  },
  {
   "cell_type": "code",
   "execution_count": 7,
   "metadata": {},
   "outputs": [],
   "source": [
    "#peki bu yönetici classına yeni metod ekleyebilir miyiz hemen bakalım\n",
    "class Yonetici2(Calisan):\n",
    "    def zam_yap(self,zam_miktari):\n",
    "        print(\"Zam yapılıyor\")\n",
    "        self.maas+=zam_miktari"
   ]
  },
  {
   "cell_type": "code",
   "execution_count": 9,
   "metadata": {},
   "outputs": [
    {
     "name": "stdout",
     "output_type": "stream",
     "text": [
      "Çalışan Classında init Function\n"
     ]
    }
   ],
   "source": [
    "yetkili1= Yonetici2(\"Memduh\",5000,\"CEO\")"
   ]
  },
  {
   "cell_type": "code",
   "execution_count": 11,
   "metadata": {},
   "outputs": [
    {
     "name": "stdout",
     "output_type": "stream",
     "text": [
      "\n",
      " **Çalışan sınıfının bilgileri**\n",
      "\n",
      "İsim: Memduh\n",
      "Soyisim: 5000\n",
      "Departman: CEO\n"
     ]
    }
   ],
   "source": [
    "yetkili1.bilgileri_goster()"
   ]
  },
  {
   "cell_type": "code",
   "execution_count": 13,
   "metadata": {},
   "outputs": [
    {
     "name": "stdout",
     "output_type": "stream",
     "text": [
      "Zam yapılıyor\n"
     ]
    }
   ],
   "source": [
    "yetkili1.zam_yap(500)"
   ]
  },
  {
   "cell_type": "code",
   "execution_count": 15,
   "metadata": {},
   "outputs": [
    {
     "name": "stdout",
     "output_type": "stream",
     "text": [
      "\n",
      " **Çalışan sınıfının bilgileri**\n",
      "\n",
      "İsim: Memduh\n",
      "Soyisim: 5500\n",
      "Departman: CEO\n"
     ]
    }
   ],
   "source": [
    "yetkili1.bilgileri_goster()"
   ]
  },
  {
   "cell_type": "raw",
   "metadata": {},
   "source": [
    "Gördüğümüz gibi inheritance yaptığımız classlardan hem metod kullandık hem de kendi metodumuzu ve özelliklerimizi(attribute) eklemiş olduk.."
   ]
  },
  {
   "cell_type": "markdown",
   "metadata": {},
   "source": [
    "## Overriding (İptal Etme)"
   ]
  },
  {
   "cell_type": "raw",
   "metadata": {},
   "source": [
    "Miras olarak alınan hesapları aynı isimle yeni classımızda tekrar tanımlarsak, artık method kullanıldığı zaman miras değil kendi kullanılan metodumuz çalışacaktır.\n",
    "Buna object oriented programming'de bir metodu override etmek denmektedir.\n",
    "Örneğin artık Calisan classının init metodunu kullanmak yerine Yonetici classında init metodunu override edebiliriz böylece yönetici sınıfına ekstra attribute/ozellikler ekleyebiliriz."
   ]
  },
  {
   "cell_type": "code",
   "execution_count": 16,
   "metadata": {},
   "outputs": [],
   "source": [
    "class Calisan():\n",
    "    def __init__(self, isim, maas, departman):\n",
    "        print(\"Çalışan Classında init Function\")\n",
    "        self.isim= isim\n",
    "        self.maas= maas\n",
    "        self.departman= departman\n",
    "        \n",
    "    def bilgileri_goster(self):\n",
    "        print(\"\\n **Çalışan sınıfının bilgileri**\\n\")\n",
    "        print(\"İsim: {}\\nSoyisim: {}\\nDepartman: {}\".format(self.isim,self.maas,self.departman))\n",
    "        \n",
    "    def departman_degistir(self,yeni_departman):\n",
    "        print(\"Departman değiştiriliyor.\")\n",
    "        self.departman=yeni_departman\n",
    "    "
   ]
  },
  {
   "cell_type": "code",
   "execution_count": 18,
   "metadata": {},
   "outputs": [],
   "source": [
    "class Yonetici(Calisan):\n",
    "    def __init__(self,isim,maas,departman,kisi_sayisi): #sorumlu olunan kişi sayısı ekledik\n",
    "        print(\"Yonetici sınıfının init fonksiyonu\")\n",
    "        self.isim=isim\n",
    "        self.maas=maas\n",
    "        self.departman=departman\n",
    "        self.kisi_sayisi=kisi_sayisi #yeni ozellik\n",
    "    def zam_yap(self,zam_miktari):\n",
    "        print(\"zam yapılıyor\")\n",
    "        self.maas+=zam_miktari\n",
    "        "
   ]
  },
  {
   "cell_type": "code",
   "execution_count": 19,
   "metadata": {},
   "outputs": [
    {
     "name": "stdout",
     "output_type": "stream",
     "text": [
      "Yonetici sınıfının init fonksiyonu\n"
     ]
    }
   ],
   "source": [
    "admin1= Yonetici(\"Mustafa\",5000,\"CEO\",50)"
   ]
  },
  {
   "cell_type": "raw",
   "metadata": {},
   "source": [
    "yukarıda görüldüğü gibi yonetici sınıfının init fonksiyonu çalıştırıldı.\n",
    "şimdi de bilgigoster metodunu override edelim"
   ]
  },
  {
   "cell_type": "code",
   "execution_count": 21,
   "metadata": {},
   "outputs": [],
   "source": [
    "class Calisan():\n",
    "    def __init__(self, isim, maas, departman):\n",
    "        print(\"Çalışan Classında init Function\")\n",
    "        self.isim= isim\n",
    "        self.maas= maas\n",
    "        self.departman= departman\n",
    "        \n",
    "    def bilgileri_goster(self):\n",
    "        print(\"\\n **Çalışan sınıfının bilgileri**\\n\")\n",
    "        print(\"İsim: {}\\nSoyisim: {}\\nDepartman: {}\".format(self.isim,self.maas,self.departman))\n",
    "        \n",
    "    def departman_degistir(self,yeni_departman):\n",
    "        print(\"Departman değiştiriliyor.\")\n",
    "        self.departman=yeni_departman\n",
    "    "
   ]
  },
  {
   "cell_type": "code",
   "execution_count": 25,
   "metadata": {},
   "outputs": [],
   "source": [
    "class Yonetici(Calisan):\n",
    "    def __init__(self,isim,maas,departman,kisi_sayisi): #sorumlu olunan kişi sayısı ekledik\n",
    "        print(\"Yonetici sınıfının init fonksiyonu\")\n",
    "        self.isim=isim\n",
    "        self.maas=maas\n",
    "        self.departman=departman\n",
    "        self.kisi_sayisi=kisi_sayisi #yeni ozellik\n",
    "        \n",
    "    def bilgileri_goster(self):\n",
    "        print(\"Yönetici sınıfının bilgileri\")\n",
    "        print(\"İsim: {}\\nSoyisim: {}\\nDepartman: {}\\nSorumlu Kişi Sayısı {}\".format(self.isim,self.maas,self.departman,self.kisi_sayisi))\n",
    "    def zam_yap(self,zam_miktari):\n",
    "        print(\"zam yapılıyor\")\n",
    "        self.maas+=zam_miktari\n",
    "        "
   ]
  },
  {
   "cell_type": "code",
   "execution_count": 26,
   "metadata": {},
   "outputs": [
    {
     "name": "stdout",
     "output_type": "stream",
     "text": [
      "Yonetici sınıfının init fonksiyonu\n"
     ]
    }
   ],
   "source": [
    "admin5= Yonetici(\"Memcuk\",5000,\"CFO\",20)"
   ]
  },
  {
   "cell_type": "code",
   "execution_count": 27,
   "metadata": {},
   "outputs": [
    {
     "name": "stdout",
     "output_type": "stream",
     "text": [
      "Yönetici sınıfının bilgileri\n",
      "İsim: Memcuk\n",
      "Soyisim: 5000\n",
      "Departman: CFO\n",
      "Sorumlu Kişi Sayısı 20\n"
     ]
    }
   ],
   "source": [
    "admin5.bilgileri_goster() #kendi fonksiyonumuz çağrıldı, overriding"
   ]
  },
  {
   "cell_type": "markdown",
   "metadata": {},
   "source": [
    "### super Anahtar kelimesi"
   ]
  },
  {
   "cell_type": "markdown",
   "metadata": {},
   "source": [
    "super anahtar kelimesi özellikle override ettiğimiz bir methodun içinde aynı zamanda inheritance (miras) kullanılmak isterse işimize yarayacaktır.\n",
    "yani genel anlamıyla super, miras aldığımız sınıfın metodlarını farklı sınıflarda kullanmamızı sağlayacaktır."
   ]
  },
  {
   "cell_type": "code",
   "execution_count": 28,
   "metadata": {},
   "outputs": [],
   "source": [
    "class Calisan():\n",
    "    def __init__(self, isim, maas, departman):\n",
    "        print(\"Çalışan Classında init Function\")\n",
    "        self.isim= isim\n",
    "        self.maas= maas\n",
    "        self.departman= departman\n",
    "        \n",
    "    def bilgileri_goster(self):\n",
    "        print(\"\\n **Çalışan sınıfının bilgileri**\\n\")\n",
    "        print(\"İsim: {}\\nSoyisim: {}\\nDepartman: {}\".format(self.isim,self.maas,self.departman))\n",
    "        \n",
    "    def departman_degistir(self,yeni_departman):\n",
    "        print(\"Departman değiştiriliyor.\")\n",
    "        self.departman=yeni_departman\n",
    "    "
   ]
  },
  {
   "cell_type": "code",
   "execution_count": 33,
   "metadata": {},
   "outputs": [],
   "source": [
    "class Yonetici(Calisan):\n",
    "    #INIT FONKSİYONUNU SUPER İLE KULLANALIM, YUKARIDA TEK TEK YAZDIK ŞİMDİ SUPER İLE HIZLICA HALLEDECEGIZ\n",
    "    def __init__(self,isim,maas,departman,kisi_sayisi):\n",
    "        super().__init__(isim,maas,departman) # 3 özelliği Calisan classından çektik...\n",
    "        print(\"Yönetici sınıfının init fonksiyonu\") \n",
    "        self.kisi_sayisi=kisi_sayisi #önceki kısımları aynen kullandık ve ek olarak yeni bir parametre ekledik\n",
    "        \n",
    "    def bilgileri_goster(self):\n",
    "        print(\"Yönetici sınıfının bilgileri\")\n",
    "        print(\"İsim: {}\\nSoyisim: {}\\nDepartman: {}\\nSorumlu Kişi Sayısı: {}\".format(self.isim,self.maas,self.departman,self.kisi_sayisi))\n",
    "    def zam_yap(self,zam_miktari):\n",
    "        print(\"zam yapılıyor\")\n",
    "        self.maas+=zam_miktari\n",
    "        "
   ]
  },
  {
   "cell_type": "code",
   "execution_count": 34,
   "metadata": {},
   "outputs": [
    {
     "name": "stdout",
     "output_type": "stream",
     "text": [
      "Çalışan Classında init Function\n",
      "Yönetici sınıfının init fonksiyonu\n"
     ]
    }
   ],
   "source": [
    "admin72=Yonetici(\"Baran\",5000,\"BOOST\",20) # ilk olarak  çalışan classında çalıştı sonra da yonetici"
   ]
  },
  {
   "cell_type": "code",
   "execution_count": 35,
   "metadata": {},
   "outputs": [
    {
     "name": "stdout",
     "output_type": "stream",
     "text": [
      "Yönetici sınıfının bilgileri\n",
      "İsim: Baran\n",
      "Soyisim: 5000\n",
      "Departman: BOOST\n",
      "Sorumlu Kişi Sayısı: 20\n"
     ]
    }
   ],
   "source": [
    "admin72.bilgileri_goster()"
   ]
  },
  {
   "cell_type": "code",
   "execution_count": null,
   "metadata": {},
   "outputs": [],
   "source": []
  }
 ],
 "metadata": {
  "kernelspec": {
   "display_name": "Python 3",
   "language": "python",
   "name": "python3"
  },
  "language_info": {
   "codemirror_mode": {
    "name": "ipython",
    "version": 3
   },
   "file_extension": ".py",
   "mimetype": "text/x-python",
   "name": "python",
   "nbconvert_exporter": "python",
   "pygments_lexer": "ipython3",
   "version": "3.8.5"
  }
 },
 "nbformat": 4,
 "nbformat_minor": 4
}
