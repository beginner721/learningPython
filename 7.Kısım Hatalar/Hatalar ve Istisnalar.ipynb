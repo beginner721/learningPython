{
 "cells": [
  {
   "cell_type": "code",
   "execution_count": 1,
   "metadata": {},
   "outputs": [
    {
     "name": "stdout",
     "output_type": "stream",
     "text": [
      "345\n",
      "14\n"
     ]
    }
   ],
   "source": [
    "liste = [\"345\",\"sadas\",\"324a\",\"14\",\"kemal\"]\n",
    "\n",
    "for i in liste:\n",
    "    try:\n",
    "        i=int(i)\n",
    "        print(i)\n",
    "    except:\n",
    "        pass\n",
    "    \n",
    "#yukarıdakı işlem ile listemizde integer olanları göreceğiz, ve int dönüştürülemeyen stringleri ise pass geçip devam edeceğiz\n",
    "#böylece hata vermeden işlemimiz tamamlanmış olacak, try except blokları ile hataları kontrol edebiliriz.\n"
   ]
  },
  {
   "cell_type": "code",
   "execution_count": 2,
   "metadata": {},
   "outputs": [
    {
     "name": "stdout",
     "output_type": "stream",
     "text": [
      "Sayıveroc: 21\n"
     ]
    },
    {
     "ename": "ValueError",
     "evalue": "Ananızskm",
     "output_type": "error",
     "traceback": [
      "\u001b[1;31m---------------------------------------------------------------------------\u001b[0m",
      "\u001b[1;31mValueError\u001b[0m                                Traceback (most recent call last)",
      "\u001b[1;32m<ipython-input-2-e6cb59679aeb>\u001b[0m in \u001b[0;36m<module>\u001b[1;34m\u001b[0m\n\u001b[0;32m      7\u001b[0m         \u001b[1;32mraise\u001b[0m \u001b[0mValueError\u001b[0m \u001b[1;33m(\u001b[0m\u001b[1;34m\"Ananızskm\"\u001b[0m\u001b[1;33m)\u001b[0m\u001b[1;33m\u001b[0m\u001b[1;33m\u001b[0m\u001b[0m\n\u001b[0;32m      8\u001b[0m \u001b[1;33m\u001b[0m\u001b[0m\n\u001b[1;32m----> 9\u001b[1;33m \u001b[0mciftMi\u001b[0m\u001b[1;33m(\u001b[0m\u001b[0ma\u001b[0m\u001b[1;33m)\u001b[0m\u001b[1;33m\u001b[0m\u001b[1;33m\u001b[0m\u001b[0m\n\u001b[0m\u001b[0;32m     10\u001b[0m \u001b[1;31m#yukarıdaki işlem ile def içerisinde ValueError hatasına kendi tanımımızı yaptık\u001b[0m\u001b[1;33m\u001b[0m\u001b[1;33m\u001b[0m\u001b[1;33m\u001b[0m\u001b[0m\n",
      "\u001b[1;32m<ipython-input-2-e6cb59679aeb>\u001b[0m in \u001b[0;36mciftMi\u001b[1;34m(a)\u001b[0m\n\u001b[0;32m      5\u001b[0m         \u001b[1;32mreturn\u001b[0m \u001b[0ma\u001b[0m\u001b[1;33m\u001b[0m\u001b[1;33m\u001b[0m\u001b[0m\n\u001b[0;32m      6\u001b[0m     \u001b[1;32melse\u001b[0m\u001b[1;33m:\u001b[0m\u001b[1;33m\u001b[0m\u001b[1;33m\u001b[0m\u001b[0m\n\u001b[1;32m----> 7\u001b[1;33m         \u001b[1;32mraise\u001b[0m \u001b[0mValueError\u001b[0m \u001b[1;33m(\u001b[0m\u001b[1;34m\"Ananızskm\"\u001b[0m\u001b[1;33m)\u001b[0m\u001b[1;33m\u001b[0m\u001b[1;33m\u001b[0m\u001b[0m\n\u001b[0m\u001b[0;32m      8\u001b[0m \u001b[1;33m\u001b[0m\u001b[0m\n\u001b[0;32m      9\u001b[0m \u001b[0mciftMi\u001b[0m\u001b[1;33m(\u001b[0m\u001b[0ma\u001b[0m\u001b[1;33m)\u001b[0m\u001b[1;33m\u001b[0m\u001b[1;33m\u001b[0m\u001b[0m\n",
      "\u001b[1;31mValueError\u001b[0m: Ananızskm"
     ]
    }
   ],
   "source": [
    "a=int(input(\"Sayıveroc: \"))\n",
    "\n",
    "def ciftMi(a):\n",
    "    if a%2==0:\n",
    "        return a\n",
    "    else:\n",
    "        raise ValueError (\"Ananızskm\")\n",
    "\n",
    "ciftMi(a)\n",
    "#yukarıdaki işlem ile def içerisinde ValueError hatasına kendi tanımımızı yaptık "
   ]
  },
  {
   "cell_type": "code",
   "execution_count": 4,
   "metadata": {},
   "outputs": [
    {
     "name": "stdout",
     "output_type": "stream",
     "text": [
      "Sayi1: 123\n",
      "Sayi2: asd\n",
      "İnput Yanlış\n",
      "ÇALIŞTI\n"
     ]
    }
   ],
   "source": [
    "try:\n",
    "    a=int(input(\"Sayi1: \"))\n",
    "    b=int(input(\"Sayi2: \"))\n",
    "    print(a/b)\n",
    "except ValueError:\n",
    "    print(\"İnput Yanlış\")\n",
    "except ZeroDivisionError:\n",
    "    print(\"Sayı sıfıra bölünemez\")\n",
    "finally:\n",
    "    print(\"ÇALIŞTI\")\n",
    "    #finally blokları ile hata verse de vermese de çalıştırmak istediğimiz kısmı çalıştırırız\n",
    "    "
   ]
  },
  {
   "cell_type": "code",
   "execution_count": null,
   "metadata": {},
   "outputs": [],
   "source": []
  },
  {
   "cell_type": "code",
   "execution_count": null,
   "metadata": {},
   "outputs": [],
   "source": []
  }
 ],
 "metadata": {
  "kernelspec": {
   "display_name": "Python 3",
   "language": "python",
   "name": "python3"
  },
  "language_info": {
   "codemirror_mode": {
    "name": "ipython",
    "version": 3
   },
   "file_extension": ".py",
   "mimetype": "text/x-python",
   "name": "python",
   "nbconvert_exporter": "python",
   "pygments_lexer": "ipython3",
   "version": "3.8.5"
  }
 },
 "nbformat": 4,
 "nbformat_minor": 4
}
